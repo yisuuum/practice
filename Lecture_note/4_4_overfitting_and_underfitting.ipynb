{
  "nbformat": 4,
  "nbformat_minor": 0,
  "metadata": {
    "kernelspec": {
      "display_name": "Python 3",
      "language": "python",
      "name": "python3"
    },
    "language_info": {
      "codemirror_mode": {
        "name": "ipython",
        "version": 3
      },
      "file_extension": ".py",
      "mimetype": "text/x-python",
      "name": "python",
      "nbconvert_exporter": "python",
      "pygments_lexer": "ipython3",
      "version": "3.6.5"
    },
    "colab": {
      "name": "4.4-overfitting-and-underfitting.ipynb",
      "provenance": [],
      "include_colab_link": true
    }
  },
  "cells": [
    {
      "cell_type": "markdown",
      "metadata": {
        "id": "view-in-github",
        "colab_type": "text"
      },
      "source": [
        "<a href=\"https://colab.research.google.com/github/yisuuum/practice/blob/main/4_4_overfitting_and_underfitting.ipynb\" target=\"_parent\"><img src=\"https://colab.research.google.com/assets/colab-badge.svg\" alt=\"Open In Colab\"/></a>"
      ]
    },
    {
      "cell_type": "code",
      "metadata": {
        "id": "AVV1rjC1A8yg",
        "outputId": "bebb1673-3d93-490b-f83f-ee842bad595c"
      },
      "source": [
        "import tensorflow\n",
        "tensorflow.keras.__version__"
      ],
      "execution_count": null,
      "outputs": [
        {
          "output_type": "execute_result",
          "data": {
            "text/plain": [
              "'2.2.4-tf'"
            ]
          },
          "metadata": {
            "tags": []
          },
          "execution_count": 1
        }
      ]
    },
    {
      "cell_type": "markdown",
      "metadata": {
        "id": "Dq6iUGuQA8yv"
      },
      "source": [
        "# Overfitting and underfitting\n",
        "\n",
        "This notebook contains the code samples found in Chapter 3, Section 6 of [Deep Learning with Python](https://www.manning.com/books/deep-learning-with-python?a_aid=keras&a_bid=76564dff). Note that the original text features far more content, in particular further explanations and figures: in this notebook, you will only find source code and related comments.\n",
        "\n",
        "----\n",
        "\n",
        "\n",
        "In all the examples we saw in the previous chapter -- movie review sentiment prediction, topic classification, and house price regression -- \n",
        "we could notice that the performance of our model on the held-out validation data would always peak after a few epochs and would then start \n",
        "degrading, i.e. our model would quickly start to _overfit_ to the training data. Overfitting happens in every single machine learning \n",
        "problem. Learning how to deal with overfitting is essential to mastering machine learning.\n",
        "\n",
        "The fundamental issue in machine learning is the tension between optimization and generalization. \"Optimization\" refers to the process of \n",
        "adjusting a model to get the best performance possible on the training data (the \"learning\" in \"machine learning\"), while \"generalization\" \n",
        "refers to how well the trained model would perform on data it has never seen before. The goal of the game is to get good generalization, of \n",
        "course, but you do not control generalization; you can only adjust the model based on its training data.\n",
        "\n",
        "At the beginning of training, optimization and generalization are correlated: the lower your loss on training data, the lower your loss on \n",
        "test data. While this is happening, your model is said to be _under-fit_: there is still progress to be made; the network hasn't yet \n",
        "modeled all relevant patterns in the training data. But after a certain number of iterations on the training data, generalization stops \n",
        "improving, validation metrics stall then start degrading: the model is then starting to over-fit, i.e. is it starting to learn patterns \n",
        "that are specific to the training data but that are misleading or irrelevant when it comes to new data.\n",
        "\n",
        "To prevent a model from learning misleading or irrelevant patterns found in the training data, _the best solution is of course to get \n",
        "more training data_. A model trained on more data will naturally generalize better. When that is no longer possible, the next best solution \n",
        "is to modulate the quantity of information that your model is allowed to store, or to add constraints on what information it is allowed to \n",
        "store. If a network can only afford to memorize a small number of patterns, the optimization process will force it to focus on the most \n",
        "prominent patterns, which have a better chance of generalizing well.\n",
        "\n",
        "The processing of fighting overfitting in this way is called _regularization_. Let's review some of the most common regularization \n",
        "techniques, and let's apply them in practice to improve our movie classification model from  the previous chapter."
      ]
    },
    {
      "cell_type": "markdown",
      "metadata": {
        "id": "a9SnGPsNA8yx"
      },
      "source": [
        "Note: in this notebook we will be using the IMDB test set as our validation set. It doesn't matter in this context.\n",
        "\n",
        "Let's prepare the data using the code from Chapter 3, Section 5:"
      ]
    },
    {
      "cell_type": "code",
      "metadata": {
        "id": "HCZVCGH1A8yx"
      },
      "source": [
        "from tensorflow.keras.datasets import imdb\n",
        "import numpy as np\n",
        "\n",
        "(train_data, train_labels), (test_data, test_labels) = imdb.load_data(num_words=10000)\n",
        "\n",
        "def vectorize_sequences(sequences, dimension=10000):\n",
        "    # Create an all-zero matrix of shape (len(sequences), dimension)\n",
        "    results = np.zeros((len(sequences), dimension))\n",
        "    for i, sequence in enumerate(sequences):\n",
        "        results[i, sequence] = 1.  # set specific indices of results[i] to 1s\n",
        "    return results\n",
        "\n",
        "# Our vectorized training data\n",
        "x_train = vectorize_sequences(train_data)\n",
        "# Our vectorized test data\n",
        "x_test = vectorize_sequences(test_data)\n",
        "# Our vectorized labels\n",
        "y_train = np.asarray(train_labels).astype('float32')\n",
        "y_test = np.asarray(test_labels).astype('float32')"
      ],
      "execution_count": null,
      "outputs": []
    },
    {
      "cell_type": "markdown",
      "metadata": {
        "id": "7FlyldlQA8yz"
      },
      "source": [
        "# Fighting overfitting\n",
        "\n",
        "## Reducing the network's size\n",
        "\n",
        "\n",
        "The simplest way to prevent overfitting is to reduce the size of the model, i.e. the number of learnable parameters in the model (which is \n",
        "determined by the number of layers and the number of units per layer). In deep learning, the number of learnable parameters in a model is \n",
        "often referred to as the model's \"capacity\". Intuitively, a model with more parameters will have more \"memorization capacity\" and therefore \n",
        "will be able to easily learn a perfect dictionary-like mapping between training samples and their targets, a mapping without any \n",
        "generalization power. For instance, a model with 500,000 binary parameters could easily be made to learn the class of every digits in the \n",
        "MNIST training set: we would only need 10 binary parameters for each of the 50,000 digits. Such a model would be useless for classifying \n",
        "new digit samples. Always keep this in mind: deep learning models tend to be good at fitting to the training data, but the real challenge \n",
        "is generalization, not fitting.\n",
        "\n",
        "On the other hand, if the network has limited memorization resources, it will not be able to learn this mapping as easily, and thus, in \n",
        "order to minimize its loss, it will have to resort to learning compressed representations that have predictive power regarding the targets \n",
        "-- precisely the type of representations that we are interested in. At the same time, keep in mind that you should be using models that have \n",
        "enough parameters that they won't be underfitting: your model shouldn't be starved for memorization resources. There is a compromise to be \n",
        "found between \"too much capacity\" and \"not enough capacity\".\n",
        "\n",
        "Unfortunately, there is no magical formula to determine what the right number of layers is, or what the right size for each layer is. You \n",
        "will have to evaluate an array of different architectures (on your validation set, not on your test set, of course) in order to find the \n",
        "right model size for your data. The general workflow to find an appropriate model size is to start with relatively few layers and \n",
        "parameters, and start increasing the size of the layers or adding new layers until you see diminishing returns with regard to the \n",
        "validation loss.\n",
        "\n",
        "Let's try this on our movie review classification network. Our original network was as such:"
      ]
    },
    {
      "cell_type": "code",
      "metadata": {
        "id": "FP12D6MBA8y1"
      },
      "source": [
        "from tensorflow.keras import models\n",
        "from tensorflow.keras import layers\n",
        "\n",
        "original_model = models.Sequential()\n",
        "original_model.add(layers.Dense(16, activation='relu', input_shape=(10000,)))\n",
        "original_model.add(layers.Dense(16, activation='relu'))\n",
        "original_model.add(layers.Dense(1, activation='sigmoid'))\n",
        "\n",
        "original_model.compile(optimizer='rmsprop',\n",
        "                       loss='binary_crossentropy',\n",
        "                       metrics=['acc'])"
      ],
      "execution_count": null,
      "outputs": []
    },
    {
      "cell_type": "markdown",
      "metadata": {
        "id": "J8ZxYwN6A8y3"
      },
      "source": [
        "Now let's try to replace it with this smaller network:"
      ]
    },
    {
      "cell_type": "code",
      "metadata": {
        "id": "PnuFnvxMA8y4"
      },
      "source": [
        "smaller_model = models.Sequential()\n",
        "smaller_model.add(layers.Dense(4, activation='relu', input_shape=(10000,)))\n",
        "smaller_model.add(layers.Dense(4, activation='relu'))\n",
        "smaller_model.add(layers.Dense(1, activation='sigmoid'))\n",
        "\n",
        "smaller_model.compile(optimizer='rmsprop',\n",
        "                      loss='binary_crossentropy',\n",
        "                      metrics=['acc'])"
      ],
      "execution_count": null,
      "outputs": []
    },
    {
      "cell_type": "markdown",
      "metadata": {
        "id": "y2VIE9qEA8y5"
      },
      "source": [
        "\n",
        "Here's a comparison of the validation losses of the original network and the smaller network. The dots are the validation loss values of \n",
        "the smaller network, and the crosses are the initial network (remember: a lower validation loss signals a better model)."
      ]
    },
    {
      "cell_type": "code",
      "metadata": {
        "id": "ZsgJzXAmA8y5",
        "outputId": "0cf010b5-77f8-4662-b9c6-9829cd662741"
      },
      "source": [
        "original_hist = original_model.fit(x_train, y_train,\n",
        "                                   epochs=20,\n",
        "                                   batch_size=512,\n",
        "                                   validation_data=(x_test, y_test))"
      ],
      "execution_count": null,
      "outputs": [
        {
          "output_type": "stream",
          "text": [
            "Train on 25000 samples, validate on 25000 samples\n",
            "Epoch 1/20\n",
            "25000/25000 [==============================] - 2s 74us/sample - loss: 0.4419 - acc: 0.8264 - val_loss: 0.3371 - val_acc: 0.8747\n",
            "Epoch 2/20\n",
            "25000/25000 [==============================] - 1s 38us/sample - loss: 0.2508 - acc: 0.9111 - val_loss: 0.3107 - val_acc: 0.8735\n",
            "Epoch 3/20\n",
            "25000/25000 [==============================] - 1s 38us/sample - loss: 0.1941 - acc: 0.9310 - val_loss: 0.3256 - val_acc: 0.8689\n",
            "Epoch 4/20\n",
            "25000/25000 [==============================] - 1s 38us/sample - loss: 0.1629 - acc: 0.9422 - val_loss: 0.2969 - val_acc: 0.8819\n",
            "Epoch 5/20\n",
            "25000/25000 [==============================] - 1s 38us/sample - loss: 0.1419 - acc: 0.9498 - val_loss: 0.3396 - val_acc: 0.8699\n",
            "Epoch 6/20\n",
            "25000/25000 [==============================] - 1s 38us/sample - loss: 0.1211 - acc: 0.9583 - val_loss: 0.4116 - val_acc: 0.8534\n",
            "Epoch 7/20\n",
            "25000/25000 [==============================] - 1s 38us/sample - loss: 0.1071 - acc: 0.9639 - val_loss: 0.4105 - val_acc: 0.8590\n",
            "Epoch 8/20\n",
            "25000/25000 [==============================] - 1s 39us/sample - loss: 0.0950 - acc: 0.9685 - val_loss: 0.3916 - val_acc: 0.8670\n",
            "Epoch 9/20\n",
            "25000/25000 [==============================] - 1s 39us/sample - loss: 0.0828 - acc: 0.9729 - val_loss: 0.4291 - val_acc: 0.8659\n",
            "Epoch 10/20\n",
            "25000/25000 [==============================] - 1s 39us/sample - loss: 0.0728 - acc: 0.9766 - val_loss: 0.4967 - val_acc: 0.8581\n",
            "Epoch 11/20\n",
            "25000/25000 [==============================] - 1s 39us/sample - loss: 0.0617 - acc: 0.9818 - val_loss: 0.4886 - val_acc: 0.8621\n",
            "Epoch 12/20\n",
            "25000/25000 [==============================] - 1s 39us/sample - loss: 0.0542 - acc: 0.9832 - val_loss: 0.5273 - val_acc: 0.8581\n",
            "Epoch 13/20\n",
            "25000/25000 [==============================] - 1s 39us/sample - loss: 0.0450 - acc: 0.9873 - val_loss: 0.5629 - val_acc: 0.8556\n",
            "Epoch 14/20\n",
            "25000/25000 [==============================] - 1s 39us/sample - loss: 0.0413 - acc: 0.9880 - val_loss: 0.6219 - val_acc: 0.8501\n",
            "Epoch 15/20\n",
            "25000/25000 [==============================] - 1s 39us/sample - loss: 0.0344 - acc: 0.9898 - val_loss: 0.6449 - val_acc: 0.8522\n",
            "Epoch 16/20\n",
            "25000/25000 [==============================] - 1s 39us/sample - loss: 0.0292 - acc: 0.9917 - val_loss: 0.6787 - val_acc: 0.8538\n",
            "Epoch 17/20\n",
            "25000/25000 [==============================] - 1s 39us/sample - loss: 0.0242 - acc: 0.9932 - val_loss: 0.7830 - val_acc: 0.8411\n",
            "Epoch 18/20\n",
            "25000/25000 [==============================] - 1s 39us/sample - loss: 0.0202 - acc: 0.9944 - val_loss: 0.7726 - val_acc: 0.8516\n",
            "Epoch 19/20\n",
            "25000/25000 [==============================] - 1s 39us/sample - loss: 0.0162 - acc: 0.9962 - val_loss: 0.7927 - val_acc: 0.8499\n",
            "Epoch 20/20\n",
            "25000/25000 [==============================] - 1s 39us/sample - loss: 0.0144 - acc: 0.9960 - val_loss: 0.8655 - val_acc: 0.8505\n"
          ],
          "name": "stdout"
        }
      ]
    },
    {
      "cell_type": "code",
      "metadata": {
        "id": "gVxe7yJBA8y6",
        "outputId": "243a7ea3-7209-4090-a9a8-48b1d939ea57"
      },
      "source": [
        "smaller_model_hist = smaller_model.fit(x_train, y_train,\n",
        "                                       epochs=20,\n",
        "                                       batch_size=512,\n",
        "                                       validation_data=(x_test, y_test))"
      ],
      "execution_count": null,
      "outputs": [
        {
          "output_type": "stream",
          "text": [
            "Train on 25000 samples, validate on 25000 samples\n",
            "Epoch 1/20\n",
            "25000/25000 [==============================] - 2s 61us/sample - loss: 0.5984 - acc: 0.7404 - val_loss: 0.5058 - val_acc: 0.8510\n",
            "Epoch 2/20\n",
            "25000/25000 [==============================] - 1s 38us/sample - loss: 0.4174 - acc: 0.8770 - val_loss: 0.3760 - val_acc: 0.8732\n",
            "Epoch 3/20\n",
            "25000/25000 [==============================] - 1s 39us/sample - loss: 0.3030 - acc: 0.9011 - val_loss: 0.3144 - val_acc: 0.8841\n",
            "Epoch 4/20\n",
            "25000/25000 [==============================] - 1s 39us/sample - loss: 0.2439 - acc: 0.9189 - val_loss: 0.2896 - val_acc: 0.8893\n",
            "Epoch 5/20\n",
            "25000/25000 [==============================] - 1s 39us/sample - loss: 0.2098 - acc: 0.9292 - val_loss: 0.2846 - val_acc: 0.8871\n",
            "Epoch 6/20\n",
            "25000/25000 [==============================] - 1s 39us/sample - loss: 0.1870 - acc: 0.9364 - val_loss: 0.2790 - val_acc: 0.8898\n",
            "Epoch 7/20\n",
            "25000/25000 [==============================] - 1s 38us/sample - loss: 0.1683 - acc: 0.9431 - val_loss: 0.2844 - val_acc: 0.8870\n",
            "Epoch 8/20\n",
            "25000/25000 [==============================] - 1s 39us/sample - loss: 0.1536 - acc: 0.9486 - val_loss: 0.2878 - val_acc: 0.8861\n",
            "Epoch 9/20\n",
            "25000/25000 [==============================] - 1s 39us/sample - loss: 0.1415 - acc: 0.9525 - val_loss: 0.2992 - val_acc: 0.8816\n",
            "Epoch 10/20\n",
            "25000/25000 [==============================] - 1s 39us/sample - loss: 0.1314 - acc: 0.9581 - val_loss: 0.3045 - val_acc: 0.8826\n",
            "Epoch 11/20\n",
            "25000/25000 [==============================] - 1s 39us/sample - loss: 0.1222 - acc: 0.9612 - val_loss: 0.3147 - val_acc: 0.8796\n",
            "Epoch 12/20\n",
            "25000/25000 [==============================] - 1s 39us/sample - loss: 0.1140 - acc: 0.9643 - val_loss: 0.3270 - val_acc: 0.8772\n",
            "Epoch 13/20\n",
            "25000/25000 [==============================] - 1s 39us/sample - loss: 0.1065 - acc: 0.9663 - val_loss: 0.3385 - val_acc: 0.8758\n",
            "Epoch 14/20\n",
            "25000/25000 [==============================] - 1s 39us/sample - loss: 0.0998 - acc: 0.9695 - val_loss: 0.3518 - val_acc: 0.8747\n",
            "Epoch 15/20\n",
            "25000/25000 [==============================] - 1s 39us/sample - loss: 0.0936 - acc: 0.9713 - val_loss: 0.3674 - val_acc: 0.8727\n",
            "Epoch 16/20\n",
            "25000/25000 [==============================] - 1s 39us/sample - loss: 0.0874 - acc: 0.9738 - val_loss: 0.3823 - val_acc: 0.8698\n",
            "Epoch 17/20\n",
            "25000/25000 [==============================] - 1s 39us/sample - loss: 0.0822 - acc: 0.9758 - val_loss: 0.4006 - val_acc: 0.8688\n",
            "Epoch 18/20\n",
            "25000/25000 [==============================] - 1s 39us/sample - loss: 0.0774 - acc: 0.9776 - val_loss: 0.4127 - val_acc: 0.8671\n",
            "Epoch 19/20\n",
            "25000/25000 [==============================] - 1s 39us/sample - loss: 0.0725 - acc: 0.9789 - val_loss: 0.4289 - val_acc: 0.8654\n",
            "Epoch 20/20\n",
            "25000/25000 [==============================] - 1s 39us/sample - loss: 0.0679 - acc: 0.9810 - val_loss: 0.4500 - val_acc: 0.8640\n"
          ],
          "name": "stdout"
        }
      ]
    },
    {
      "cell_type": "code",
      "metadata": {
        "id": "0pek5EDpA8y7"
      },
      "source": [
        "epochs = range(1, 21)\n",
        "original_val_loss = original_hist.history['val_loss']\n",
        "smaller_model_val_loss = smaller_model_hist.history['val_loss']"
      ],
      "execution_count": null,
      "outputs": []
    },
    {
      "cell_type": "code",
      "metadata": {
        "id": "b9FlIAUvA8y7",
        "outputId": "10abefb3-258b-406b-d57f-1b344264220b"
      },
      "source": [
        "import matplotlib.pyplot as plt\n",
        "\n",
        "# b+ is for \"blue cross\"\n",
        "plt.plot(epochs, original_val_loss, 'b+', label='Original model')\n",
        "# \"bo\" is for \"blue dot\"\n",
        "plt.plot(epochs, smaller_model_val_loss, 'bo', label='Smaller model')\n",
        "plt.xlabel('Epochs')\n",
        "plt.ylabel('Validation loss')\n",
        "plt.legend()\n",
        "\n",
        "plt.show()"
      ],
      "execution_count": null,
      "outputs": [
        {
          "output_type": "display_data",
          "data": {
            "image/png": "[encoded data removed]",
            "text/plain": [
              "<Figure size 432x288 with 1 Axes>"
            ]
          },
          "metadata": {
            "tags": []
          }
        }
      ]
    },
    {
      "cell_type": "markdown",
      "metadata": {
        "id": "knlo7cIxA8y8"
      },
      "source": [
        "\n",
        "As you can see, the smaller network starts overfitting later than the reference one (after 6 epochs rather than 4) and its performance \n",
        "degrades much more slowly once it starts overfitting.\n",
        "\n",
        "Now, for kicks, let's add to this benchmark a network that has much more capacity, far more than the problem would warrant:"
      ]
    },
    {
      "cell_type": "code",
      "metadata": {
        "id": "XgTEanUuA8y8"
      },
      "source": [
        "bigger_model = models.Sequential()\n",
        "bigger_model.add(layers.Dense(512, activation='relu', input_shape=(10000,)))\n",
        "bigger_model.add(layers.Dense(512, activation='relu'))\n",
        "bigger_model.add(layers.Dense(1, activation='sigmoid'))\n",
        "\n",
        "bigger_model.compile(optimizer='rmsprop',\n",
        "                     loss='binary_crossentropy',\n",
        "                     metrics=['acc'])"
      ],
      "execution_count": null,
      "outputs": []
    },
    {
      "cell_type": "code",
      "metadata": {
        "id": "oshJP5fiA8y9",
        "outputId": "7efe0fe3-2615-4c1b-8b3d-36f4be81f123"
      },
      "source": [
        "bigger_model_hist = bigger_model.fit(x_train, y_train,\n",
        "                                     epochs=20,\n",
        "                                     batch_size=512,\n",
        "                                     validation_data=(x_test, y_test))"
      ],
      "execution_count": null,
      "outputs": [
        {
          "output_type": "stream",
          "text": [
            "Train on 25000 samples, validate on 25000 samples\n",
            "Epoch 1/20\n",
            "25000/25000 [==============================] - 2s 65us/sample - loss: 0.4562 - acc: 0.7949 - val_loss: 0.3326 - val_acc: 0.8560\n",
            "Epoch 2/20\n",
            "25000/25000 [==============================] - 1s 41us/sample - loss: 0.2214 - acc: 0.9129 - val_loss: 0.2924 - val_acc: 0.8797\n",
            "Epoch 3/20\n",
            "25000/25000 [==============================] - 1s 41us/sample - loss: 0.1251 - acc: 0.9538 - val_loss: 0.3395 - val_acc: 0.8812\n",
            "Epoch 4/20\n",
            "25000/25000 [==============================] - 1s 42us/sample - loss: 0.0836 - acc: 0.9738 - val_loss: 0.3355 - val_acc: 0.8734\n",
            "Epoch 5/20\n",
            "25000/25000 [==============================] - 1s 41us/sample - loss: 0.0110 - acc: 0.9984 - val_loss: 0.6915 - val_acc: 0.8676\n",
            "Epoch 6/20\n",
            "25000/25000 [==============================] - 1s 41us/sample - loss: 0.0928 - acc: 0.9886 - val_loss: 0.5387 - val_acc: 0.8783\n",
            "Epoch 7/20\n",
            "25000/25000 [==============================] - 1s 42us/sample - loss: 7.2166e-04 - acc: 1.0000 - val_loss: 0.7630 - val_acc: 0.8786\n",
            "Epoch 8/20\n",
            "25000/25000 [==============================] - 1s 41us/sample - loss: 6.0929e-04 - acc: 0.9999 - val_loss: 3.9330 - val_acc: 0.6830\n",
            "Epoch 9/20\n",
            "25000/25000 [==============================] - 1s 42us/sample - loss: 0.1149 - acc: 0.9877 - val_loss: 0.7348 - val_acc: 0.8807\n",
            "Epoch 10/20\n",
            "25000/25000 [==============================] - 1s 42us/sample - loss: 6.7703e-05 - acc: 1.0000 - val_loss: 0.8688 - val_acc: 0.8803\n",
            "Epoch 11/20\n",
            "25000/25000 [==============================] - 1s 41us/sample - loss: 1.2324e-05 - acc: 1.0000 - val_loss: 1.0375 - val_acc: 0.8794\n",
            "Epoch 12/20\n",
            "25000/25000 [==============================] - 1s 42us/sample - loss: 0.1457 - acc: 0.9893 - val_loss: 1.0659 - val_acc: 0.8478\n",
            "Epoch 13/20\n",
            "25000/25000 [==============================] - 1s 42us/sample - loss: 2.1545e-04 - acc: 1.0000 - val_loss: 0.8771 - val_acc: 0.8780\n",
            "Epoch 14/20\n",
            "25000/25000 [==============================] - 1s 42us/sample - loss: 2.2102e-05 - acc: 1.0000 - val_loss: 0.9254 - val_acc: 0.8804\n",
            "Epoch 15/20\n",
            "25000/25000 [==============================] - 1s 42us/sample - loss: 4.9412e-06 - acc: 1.0000 - val_loss: 1.0493 - val_acc: 0.8800\n",
            "Epoch 16/20\n",
            "25000/25000 [==============================] - 1s 42us/sample - loss: 9.2179e-07 - acc: 1.0000 - val_loss: 1.1775 - val_acc: 0.8793\n",
            "Epoch 17/20\n",
            "25000/25000 [==============================] - 1s 42us/sample - loss: 1.9739e-07 - acc: 1.0000 - val_loss: 1.3082 - val_acc: 0.8786\n",
            "Epoch 18/20\n",
            "25000/25000 [==============================] - 1s 42us/sample - loss: 5.2027e-08 - acc: 1.0000 - val_loss: 1.4075 - val_acc: 0.8784\n",
            "Epoch 19/20\n",
            "25000/25000 [==============================] - 1s 42us/sample - loss: 2.1304e-08 - acc: 1.0000 - val_loss: 1.4726 - val_acc: 0.8798\n",
            "Epoch 20/20\n",
            "25000/25000 [==============================] - 1s 42us/sample - loss: 1.2763e-08 - acc: 1.0000 - val_loss: 1.5050 - val_acc: 0.8799\n"
          ],
          "name": "stdout"
        }
      ]
    },
    {
      "cell_type": "markdown",
      "metadata": {
        "id": "-vzEOYbTA8y9"
      },
      "source": [
        "Here's how the bigger network fares compared to the reference one. The dots are the validation loss values of the bigger network, and the \n",
        "crosses are the initial network."
      ]
    },
    {
      "cell_type": "code",
      "metadata": {
        "id": "PWx1gSEcA8y-",
        "outputId": "fd80c94b-add0-4869-b429-3bc6b6ee6a16"
      },
      "source": [
        "bigger_model_val_loss = bigger_model_hist.history['val_loss']\n",
        "\n",
        "plt.plot(epochs, original_val_loss, 'b+', label='Original model')\n",
        "plt.plot(epochs, bigger_model_val_loss, 'bo', label='Bigger model')\n",
        "plt.xlabel('Epochs')\n",
        "plt.ylabel('Validation loss')\n",
        "plt.legend()\n",
        "\n",
        "plt.show()"
      ],
      "execution_count": null,
      "outputs": [
        {
          "output_type": "display_data",
          "data": {
            "image/png": "[encoded data removed]",
            "text/plain": [
              "<Figure size 432x288 with 1 Axes>"
            ]
          },
          "metadata": {
            "tags": []
          }
        }
      ]
    },
    {
      "cell_type": "markdown",
      "metadata": {
        "id": "RgM2d1IZA8y-"
      },
      "source": [
        "\n",
        "The bigger network starts overfitting almost right away, after just one epoch, and overfits much more severely. Its validation loss is also \n",
        "more noisy.\n",
        "\n",
        "Meanwhile, here are the training losses for our two networks:"
      ]
    },
    {
      "cell_type": "code",
      "metadata": {
        "id": "xvqQufB_A8y_",
        "outputId": "e5b3fdbe-0b74-40af-ce09-bd5148f20f77"
      },
      "source": [
        "original_train_loss = original_hist.history['loss']\n",
        "bigger_model_train_loss = bigger_model_hist.history['loss']\n",
        "\n",
        "plt.plot(epochs, original_train_loss, 'b+', label='Original model')\n",
        "plt.plot(epochs, bigger_model_train_loss, 'bo', label='Bigger model')\n",
        "plt.xlabel('Epochs')\n",
        "plt.ylabel('Training loss')\n",
        "plt.legend()\n",
        "\n",
        "plt.show()"
      ],
      "execution_count": null,
      "outputs": [
        {
          "output_type": "display_data",
          "data": {
            "image/png": "[encoded data removed]",
            "text/plain": [
              "<Figure size 432x288 with 1 Axes>"
            ]
          },
          "metadata": {
            "tags": []
          }
        }
      ]
    },
    {
      "cell_type": "markdown",
      "metadata": {
        "id": "JTLEXhhkA8y_"
      },
      "source": [
        "As you can see, the bigger network gets its training loss near zero very quickly. The more capacity the network has, the quicker it will be \n",
        "able to model the training data (resulting in a low training loss), but the more susceptible it is to overfitting (resulting in a large \n",
        "difference between the training and validation loss)."
      ]
    },
    {
      "cell_type": "markdown",
      "metadata": {
        "id": "k8kMU5MpA8y_"
      },
      "source": [
        "## Adding weight regularization\n",
        "\n",
        "\n",
        "You may be familiar with _Occam's Razor_ principle: given two explanations for something, the explanation most likely to be correct is the \n",
        "\"simplest\" one, the one that makes the least amount of assumptions. This also applies to the models learned by neural networks: given some \n",
        "training data and a network architecture, there are multiple sets of weights values (multiple _models_) that could explain the data, and \n",
        "simpler models are less likely to overfit than complex ones.\n",
        "\n",
        "A \"simple model\" in this context is a model where the distribution of parameter values has less entropy (or a model with fewer \n",
        "parameters altogether, as we saw in the section above). Thus a common way to mitigate overfitting is to put constraints on the complexity \n",
        "of a network by forcing its weights to only take small values, which makes the distribution of weight values more \"regular\". This is called \n",
        "\"weight regularization\", and it is done by adding to the loss function of the network a _cost_ associated with having large weights. This \n",
        "cost comes in two flavors:\n",
        "\n",
        "* L1 regularization, where the cost added is proportional to the _absolute value of the weights coefficients_ (i.e. to what is called the \n",
        "\"L1 norm\" of the weights).\n",
        "* L2 regularization, where the cost added is proportional to the _square of the value of the weights coefficients_ (i.e. to what is called \n",
        "the \"L2 norm\" of the weights). L2 regularization is also called _weight decay_ in the context of neural networks. Don't let the different \n",
        "name confuse you: weight decay is mathematically the exact same as L2 regularization.\n",
        "\n",
        "In Keras, weight regularization is added by passing _weight regularizer instances_ to layers as keyword arguments. Let's add L2 weight \n",
        "regularization to our movie review classification network:"
      ]
    },
    {
      "cell_type": "code",
      "metadata": {
        "id": "TApnvQa6A8zA"
      },
      "source": [
        "from tensorflow.keras import regularizers\n",
        "\n",
        "l2_model = models.Sequential()\n",
        "l2_model.add(layers.Dense(16, kernel_regularizer=regularizers.l2(0.001),\n",
        "                          activation='relu', input_shape=(10000,)))\n",
        "l2_model.add(layers.Dense(16, kernel_regularizer=regularizers.l2(0.001),\n",
        "                          activation='relu'))\n",
        "l2_model.add(layers.Dense(1, activation='sigmoid'))"
      ],
      "execution_count": null,
      "outputs": []
    },
    {
      "cell_type": "code",
      "metadata": {
        "id": "_-YcqLuoA8zA"
      },
      "source": [
        "l2_model.compile(optimizer='rmsprop',\n",
        "                 loss='binary_crossentropy',\n",
        "                 metrics=['acc'])"
      ],
      "execution_count": null,
      "outputs": []
    },
    {
      "cell_type": "markdown",
      "metadata": {
        "id": "BHPN8M7JA8zB"
      },
      "source": [
        "`l2(0.001)` means that every coefficient in the weight matrix of the layer will add `0.001 * weight_coefficient_value` to the total loss of \n",
        "the network. Note that because this penalty is _only added at training time_, the loss for this network will be much higher at training \n",
        "than at test time.\n",
        "\n",
        "Here's the impact of our L2 regularization penalty:"
      ]
    },
    {
      "cell_type": "code",
      "metadata": {
        "id": "UD7sE8WsA8zB",
        "outputId": "00f5a920-3854-4c78-baf7-164c9aaa8bb9"
      },
      "source": [
        "l2_model_hist = l2_model.fit(x_train, y_train,\n",
        "                             epochs=20,\n",
        "                             batch_size=512,\n",
        "                             validation_data=(x_test, y_test))"
      ],
      "execution_count": null,
      "outputs": [
        {
          "output_type": "stream",
          "text": [
            "Train on 25000 samples, validate on 25000 samples\n",
            "Epoch 1/20\n",
            "25000/25000 [==============================] - 1s 57us/sample - loss: 0.5089 - acc: 0.8115 - val_loss: 0.3950 - val_acc: 0.8754\n",
            "Epoch 2/20\n",
            "25000/25000 [==============================] - 1s 38us/sample - loss: 0.3213 - acc: 0.9058 - val_loss: 0.3360 - val_acc: 0.8886\n",
            "Epoch 3/20\n",
            "25000/25000 [==============================] - 1s 39us/sample - loss: 0.2745 - acc: 0.9182 - val_loss: 0.3326 - val_acc: 0.8858\n",
            "Epoch 4/20\n",
            "25000/25000 [==============================] - 1s 38us/sample - loss: 0.2509 - acc: 0.9274 - val_loss: 0.3495 - val_acc: 0.8792\n",
            "Epoch 5/20\n",
            "25000/25000 [==============================] - 1s 39us/sample - loss: 0.2387 - acc: 0.9313 - val_loss: 0.3523 - val_acc: 0.8790\n",
            "Epoch 6/20\n",
            "25000/25000 [==============================] - 1s 39us/sample - loss: 0.2284 - acc: 0.9362 - val_loss: 0.3454 - val_acc: 0.8836\n",
            "Epoch 7/20\n",
            "25000/25000 [==============================] - 1s 39us/sample - loss: 0.2218 - acc: 0.9394 - val_loss: 0.3734 - val_acc: 0.8727\n",
            "Epoch 8/20\n",
            "25000/25000 [==============================] - 1s 39us/sample - loss: 0.2182 - acc: 0.9402 - val_loss: 0.3602 - val_acc: 0.8792\n",
            "Epoch 9/20\n",
            "25000/25000 [==============================] - 1s 39us/sample - loss: 0.2114 - acc: 0.9433 - val_loss: 0.3666 - val_acc: 0.8782\n",
            "Epoch 10/20\n",
            "25000/25000 [==============================] - 1s 39us/sample - loss: 0.2086 - acc: 0.9437 - val_loss: 0.3878 - val_acc: 0.8712\n",
            "Epoch 11/20\n",
            "25000/25000 [==============================] - 1s 39us/sample - loss: 0.2055 - acc: 0.9437 - val_loss: 0.3921 - val_acc: 0.8714\n",
            "Epoch 12/20\n",
            "25000/25000 [==============================] - 1s 39us/sample - loss: 0.1998 - acc: 0.9469 - val_loss: 0.3989 - val_acc: 0.8705\n",
            "Epoch 13/20\n",
            "25000/25000 [==============================] - 1s 39us/sample - loss: 0.1988 - acc: 0.9479 - val_loss: 0.4781 - val_acc: 0.8486\n",
            "Epoch 14/20\n",
            "25000/25000 [==============================] - 1s 39us/sample - loss: 0.1967 - acc: 0.9482 - val_loss: 0.3999 - val_acc: 0.8720\n",
            "Epoch 15/20\n",
            "25000/25000 [==============================] - 1s 39us/sample - loss: 0.1906 - acc: 0.9511 - val_loss: 0.4048 - val_acc: 0.8688\n",
            "Epoch 16/20\n",
            "25000/25000 [==============================] - 1s 39us/sample - loss: 0.1955 - acc: 0.9475 - val_loss: 0.4835 - val_acc: 0.8522\n",
            "Epoch 17/20\n",
            "25000/25000 [==============================] - 1s 39us/sample - loss: 0.1926 - acc: 0.9492 - val_loss: 0.4074 - val_acc: 0.8714\n",
            "Epoch 18/20\n",
            "25000/25000 [==============================] - 1s 39us/sample - loss: 0.1863 - acc: 0.9518 - val_loss: 0.4130 - val_acc: 0.8692\n",
            "Epoch 19/20\n",
            "25000/25000 [==============================] - 1s 39us/sample - loss: 0.1833 - acc: 0.9542 - val_loss: 0.4205 - val_acc: 0.8674\n",
            "Epoch 20/20\n",
            "25000/25000 [==============================] - 1s 39us/sample - loss: 0.1854 - acc: 0.9505 - val_loss: 0.4341 - val_acc: 0.8648\n"
          ],
          "name": "stdout"
        }
      ]
    },
    {
      "cell_type": "code",
      "metadata": {
        "id": "lOt0cpmXA8zB",
        "outputId": "dbc7fc87-be2d-4e06-d809-3e73302d5f99"
      },
      "source": [
        "l2_model_val_loss = l2_model_hist.history['val_loss']\n",
        "\n",
        "plt.plot(epochs, original_val_loss, 'b+', label='Original model')\n",
        "plt.plot(epochs, l2_model_val_loss, 'bo', label='L2-regularized model')\n",
        "plt.xlabel('Epochs')\n",
        "plt.ylabel('Validation loss')\n",
        "plt.legend()\n",
        "\n",
        "plt.show()"
      ],
      "execution_count": null,
      "outputs": [
        {
          "output_type": "display_data",
          "data": {
            "image/png": "[encoded data removed]",
            "text/plain": [
              "<Figure size 432x288 with 1 Axes>"
            ]
          },
          "metadata": {
            "tags": []
          }
        }
      ]
    },
    {
      "cell_type": "markdown",
      "metadata": {
        "id": "Layry5oHA8zC"
      },
      "source": [
        "\n",
        "\n",
        "As you can see, the model with L2 regularization (dots) has become much more resistant to overfitting than the reference model (crosses), \n",
        "even though both models have the same number of parameters.\n",
        "\n",
        "As alternatives to L2 regularization, you could use one of the following Keras weight regularizers:"
      ]
    },
    {
      "cell_type": "code",
      "metadata": {
        "id": "Ghh-vNKtA8zC",
        "outputId": "f9cd4b4c-2fd1-4dbc-f348-914dea2e63d3"
      },
      "source": [
        "from tensorflow.keras import regularizers\n",
        "\n",
        "# L1 regularization\n",
        "regularizers.l1(0.001)\n",
        "\n",
        "# L1 and L2 regularization at the same time\n",
        "regularizers.l1_l2(l1=0.001, l2=0.001)"
      ],
      "execution_count": null,
      "outputs": [
        {
          "output_type": "execute_result",
          "data": {
            "text/plain": [
              "<tensorflow.python.keras.regularizers.L1L2 at 0x7f344c215588>"
            ]
          },
          "metadata": {
            "tags": []
          },
          "execution_count": 24
        }
      ]
    },
    {
      "cell_type": "markdown",
      "metadata": {
        "id": "zwgnAG2HA8zD"
      },
      "source": [
        "## Adding dropout\n",
        "\n",
        "\n",
        "Dropout is one of the most effective and most commonly used regularization techniques for neural networks, developed by Hinton and his \n",
        "students at the University of Toronto. Dropout, applied to a layer, consists of randomly \"dropping out\" (i.e. setting to zero) a number of \n",
        "output features of the layer during training. Let's say a given layer would normally have returned a vector `[0.2, 0.5, 1.3, 0.8, 1.1]` for a \n",
        "given input sample during training; after applying dropout, this vector will have a few zero entries distributed at random, e.g. `[0, 0.5, \n",
        "1.3, 0, 1.1]`. The \"dropout rate\" is the fraction of the features that are being zeroed-out; it is usually set between 0.2 and 0.5. At test \n",
        "time, no units are dropped out, and instead the layer's output values are scaled down by a factor equal to the dropout rate, so as to \n",
        "balance for the fact that more units are active than at training time.\n",
        "\n",
        "Consider a Numpy matrix containing the output of a layer, `layer_output`, of shape `(batch_size, features)`. At training time, we would be \n",
        "zero-ing out at random a fraction of the values in the matrix:"
      ]
    },
    {
      "cell_type": "code",
      "metadata": {
        "id": "ZSaP3dt1A8zD"
      },
      "source": [
        "# At training time: we drop out 50% of the units in the output\n",
        "layer_output *= np.randint(0, high=2, size=layer_output.shape)"
      ],
      "execution_count": null,
      "outputs": []
    },
    {
      "cell_type": "markdown",
      "metadata": {
        "id": "mPs5L8nsA8zE"
      },
      "source": [
        "\n",
        "At test time, we would be scaling the output down by the dropout rate. Here we scale by 0.5 (because we were previous dropping half the \n",
        "units):"
      ]
    },
    {
      "cell_type": "code",
      "metadata": {
        "collapsed": true,
        "id": "7H0gfGOGA8zF"
      },
      "source": [
        "# At test time:\n",
        "layer_output *= 0.5"
      ],
      "execution_count": null,
      "outputs": []
    },
    {
      "cell_type": "markdown",
      "metadata": {
        "id": "Ew1hHCenA8zG"
      },
      "source": [
        "\n",
        "Note that this process can be implemented by doing both operations at training time and leaving the output unchanged at test time, which is \n",
        "often the way it is implemented in practice:"
      ]
    },
    {
      "cell_type": "code",
      "metadata": {
        "collapsed": true,
        "id": "3fqE2xh8A8zG"
      },
      "source": [
        "# At training time:\n",
        "layer_output *= np.randint(0, high=2, size=layer_output.shape)\n",
        "# Note that we are scaling *up* rather scaling *down* in this case\n",
        "layer_output /= 0.5"
      ],
      "execution_count": null,
      "outputs": []
    },
    {
      "cell_type": "markdown",
      "metadata": {
        "id": "HfDqJNeXA8zG"
      },
      "source": [
        "\n",
        "This technique may seem strange and arbitrary. Why would this help reduce overfitting? Geoff Hinton has said that he was inspired, among \n",
        "other things, by a fraud prevention mechanism used by banks -- in his own words: _\"I went to my bank. The tellers kept changing and I asked \n",
        "one of them why. He said he didn’t know but they got moved around a lot. I figured it must be because it would require cooperation \n",
        "between employees to successfully defraud the bank. This made me realize that randomly removing a different subset of neurons on each \n",
        "example would prevent conspiracies and thus reduce overfitting\"_.\n",
        "\n",
        "The core idea is that introducing noise in the output values of a layer can break up happenstance patterns that are not significant (what \n",
        "Hinton refers to as \"conspiracies\"), which the network would start memorizing if no noise was present. \n",
        "\n",
        "In Keras you can introduce dropout in a network via the `Dropout` layer, which gets applied to the output of layer right before it, e.g.:"
      ]
    },
    {
      "cell_type": "code",
      "metadata": {
        "id": "4Aq-uDqFA8zH"
      },
      "source": [
        "model.add(layers.Dropout(0.5))"
      ],
      "execution_count": null,
      "outputs": []
    },
    {
      "cell_type": "markdown",
      "metadata": {
        "id": "xjD4OhTwA8zH"
      },
      "source": [
        "Let's add two `Dropout` layers in our IMDB network to see how well they do at reducing overfitting:"
      ]
    },
    {
      "cell_type": "code",
      "metadata": {
        "id": "PdwPI9lSA8zH"
      },
      "source": [
        "dpt_model = models.Sequential()\n",
        "dpt_model.add(layers.Dense(16, activation='relu', input_shape=(10000,)))\n",
        "dpt_model.add(layers.Dropout(0.5))\n",
        "dpt_model.add(layers.Dense(16, activation='relu'))\n",
        "dpt_model.add(layers.Dropout(0.5))\n",
        "dpt_model.add(layers.Dense(1, activation='sigmoid'))\n",
        "\n",
        "dpt_model.compile(optimizer='rmsprop',\n",
        "                  loss='binary_crossentropy',\n",
        "                  metrics=['acc'])"
      ],
      "execution_count": null,
      "outputs": []
    },
    {
      "cell_type": "code",
      "metadata": {
        "id": "9GkdqhvAA8zI",
        "outputId": "fa682634-d1ce-4274-a265-12a9ac08fe7d"
      },
      "source": [
        "dpt_model_hist = dpt_model.fit(x_train, y_train,\n",
        "                               epochs=20,\n",
        "                               batch_size=512,\n",
        "                               validation_data=(x_test, y_test))"
      ],
      "execution_count": null,
      "outputs": [
        {
          "output_type": "stream",
          "text": [
            "Train on 25000 samples, validate on 25000 samples\n",
            "Epoch 1/20\n",
            "25000/25000 [==============================] - 1s 55us/sample - loss: 0.6198 - acc: 0.6836 - val_loss: 0.5393 - val_acc: 0.7692\n",
            "Epoch 2/20\n",
            "25000/25000 [==============================] - 1s 38us/sample - loss: 0.5155 - acc: 0.8247 - val_loss: 0.4592 - val_acc: 0.8760\n",
            "Epoch 3/20\n",
            "25000/25000 [==============================] - 1s 39us/sample - loss: 0.4422 - acc: 0.8662 - val_loss: 0.3969 - val_acc: 0.8824\n",
            "Epoch 4/20\n",
            "25000/25000 [==============================] - 1s 39us/sample - loss: 0.3857 - acc: 0.8866 - val_loss: 0.3523 - val_acc: 0.8834\n",
            "Epoch 5/20\n",
            "25000/25000 [==============================] - 1s 39us/sample - loss: 0.3369 - acc: 0.8985 - val_loss: 0.3289 - val_acc: 0.8817\n",
            "Epoch 6/20\n",
            "25000/25000 [==============================] - 1s 39us/sample - loss: 0.2948 - acc: 0.9102 - val_loss: 0.3129 - val_acc: 0.8819\n",
            "Epoch 7/20\n",
            "25000/25000 [==============================] - 1s 39us/sample - loss: 0.2595 - acc: 0.9198 - val_loss: 0.3257 - val_acc: 0.8830\n",
            "Epoch 8/20\n",
            "25000/25000 [==============================] - 1s 39us/sample - loss: 0.2358 - acc: 0.9272 - val_loss: 0.3316 - val_acc: 0.8819\n",
            "Epoch 9/20\n",
            "25000/25000 [==============================] - 1s 39us/sample - loss: 0.2169 - acc: 0.9316 - val_loss: 0.3472 - val_acc: 0.8830\n",
            "Epoch 10/20\n",
            "25000/25000 [==============================] - 1s 39us/sample - loss: 0.2025 - acc: 0.9382 - val_loss: 0.3499 - val_acc: 0.8785\n",
            "Epoch 11/20\n",
            "25000/25000 [==============================] - 1s 39us/sample - loss: 0.1854 - acc: 0.9437 - val_loss: 0.3625 - val_acc: 0.8780\n",
            "Epoch 12/20\n",
            "25000/25000 [==============================] - 1s 39us/sample - loss: 0.1753 - acc: 0.9458 - val_loss: 0.3741 - val_acc: 0.8690\n",
            "Epoch 13/20\n",
            "25000/25000 [==============================] - 1s 39us/sample - loss: 0.1663 - acc: 0.9498 - val_loss: 0.4051 - val_acc: 0.8763\n",
            "Epoch 14/20\n",
            "25000/25000 [==============================] - 1s 39us/sample - loss: 0.1599 - acc: 0.9538 - val_loss: 0.4417 - val_acc: 0.8769\n",
            "Epoch 15/20\n",
            "25000/25000 [==============================] - 1s 39us/sample - loss: 0.1501 - acc: 0.9556 - val_loss: 0.4514 - val_acc: 0.8744\n",
            "Epoch 16/20\n",
            "25000/25000 [==============================] - 1s 39us/sample - loss: 0.1424 - acc: 0.9564 - val_loss: 0.4512 - val_acc: 0.8689\n",
            "Epoch 17/20\n",
            "25000/25000 [==============================] - 1s 39us/sample - loss: 0.1365 - acc: 0.9580 - val_loss: 0.4904 - val_acc: 0.8710\n",
            "Epoch 18/20\n",
            "25000/25000 [==============================] - 1s 39us/sample - loss: 0.1349 - acc: 0.9585 - val_loss: 0.5190 - val_acc: 0.8720\n",
            "Epoch 19/20\n",
            "25000/25000 [==============================] - 1s 39us/sample - loss: 0.1317 - acc: 0.9603 - val_loss: 0.5490 - val_acc: 0.8724\n",
            "Epoch 20/20\n",
            "25000/25000 [==============================] - 1s 39us/sample - loss: 0.1299 - acc: 0.9605 - val_loss: 0.5434 - val_acc: 0.8688\n"
          ],
          "name": "stdout"
        }
      ]
    },
    {
      "cell_type": "markdown",
      "metadata": {
        "id": "XqHnxKKmA8zJ"
      },
      "source": [
        "Let's plot the results:"
      ]
    },
    {
      "cell_type": "code",
      "metadata": {
        "id": "6IK8EUKEA8zJ",
        "outputId": "02e149f2-df94-453c-ec3e-481315cc3385"
      },
      "source": [
        "dpt_model_val_loss = dpt_model_hist.history['val_loss']\n",
        "\n",
        "plt.plot(epochs, original_val_loss, 'b+', label='Original model')\n",
        "plt.plot(epochs, dpt_model_val_loss, 'bo', label='Dropout-regularized model')\n",
        "plt.xlabel('Epochs')\n",
        "plt.ylabel('Validation loss')\n",
        "plt.legend()\n",
        "\n",
        "plt.show()"
      ],
      "execution_count": null,
      "outputs": [
        {
          "output_type": "display_data",
          "data": {
            "image/png": "[encoded data removed]",
            "text/plain": [
              "<Figure size 432x288 with 1 Axes>"
            ]
          },
          "metadata": {
            "tags": []
          }
        }
      ]
    },
    {
      "cell_type": "markdown",
      "metadata": {
        "id": "Ibml3r0ZA8zJ"
      },
      "source": [
        "\n",
        "Again, a clear improvement over the reference network.\n",
        "\n",
        "To recap: here the most common ways to prevent overfitting in neural networks:\n",
        "\n",
        "* Getting more training data.\n",
        "* Reducing the capacity of the network.\n",
        "* Adding weight regularization.\n",
        "* Adding dropout."
      ]
    }
  ]
}
