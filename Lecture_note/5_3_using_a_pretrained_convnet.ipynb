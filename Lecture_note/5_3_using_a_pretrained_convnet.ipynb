{
  "nbformat": 4,
  "nbformat_minor": 0,
  "metadata": {
    "kernelspec": {
      "display_name": "Python 3",
      "language": "python",
      "name": "python3"
    },
    "language_info": {
      "codemirror_mode": {
        "name": "ipython",
        "version": 3
      },
      "file_extension": ".py",
      "mimetype": "text/x-python",
      "name": "python",
      "nbconvert_exporter": "python",
      "pygments_lexer": "ipython3",
      "version": "3.6.5"
    },
    "colab": {
      "name": "5.3-using-a-pretrained-convnet.ipynb",
      "provenance": [],
      "include_colab_link": true
    },
    "accelerator": "GPU"
  },
  "cells": [
    {
      "cell_type": "markdown",
      "metadata": {
        "id": "view-in-github",
        "colab_type": "text"
      },
      "source": [
        "<a href=\"https://colab.research.google.com/github/yisuuum/practice/blob/main/5_3_using_a_pretrained_convnet.ipynb\" target=\"_parent\"><img src=\"https://colab.research.google.com/assets/colab-badge.svg\" alt=\"Open In Colab\"/></a>"
      ]
    },
    {
      "cell_type": "code",
      "metadata": {
        "id": "SGb--xvolzcU",
        "colab": {
          "base_uri": "https://localhost:8080/",
          "height": 35
        },
        "outputId": "5d57ef8a-6c85-4804-a7db-3bab3ec5ff5c"
      },
      "source": [
        "import tensorflow\n",
        "tensorflow.keras.__version__"
      ],
      "execution_count": null,
      "outputs": [
        {
          "output_type": "execute_result",
          "data": {
            "application/vnd.google.colaboratory.intrinsic+json": {
              "type": "string"
            },
            "text/plain": [
              "'2.4.0'"
            ]
          },
          "metadata": {
            "tags": []
          },
          "execution_count": 1
        }
      ]
    },
    {
      "cell_type": "markdown",
      "metadata": {
        "id": "qnEo5Olzlzci"
      },
      "source": [
        "# Using a pre-trained convnet\n",
        "\n",
        "This notebook contains the code sample found in Chapter 5, Section 3 of [Deep Learning with Python](https://www.manning.com/books/deep-learning-with-python?a_aid=keras&a_bid=76564dff). Note that the original text features far more content, in particular further explanations and figures: in this notebook, you will only find source code and related comments.\n",
        "\n",
        "----\n",
        "\n",
        "A common and highly effective approach to deep learning on small image datasets is to leverage a pre-trained network. A pre-trained network \n",
        "is simply a saved network previously trained on a large dataset, typically on a large-scale image classification task. If this original \n",
        "dataset is large enough and general enough, then the spatial feature hierarchy learned by the pre-trained network can effectively act as a \n",
        "generic model of our visual world, and hence its features can prove useful for many different computer vision problems, even though these \n",
        "new problems might involve completely different classes from those of the original task. For instance, one might train a network on \n",
        "ImageNet (where classes are mostly animals and everyday objects) and then re-purpose this trained network for something as remote as \n",
        "identifying furniture items in images. Such portability of learned features across different problems is a key advantage of deep learning \n",
        "compared to many older shallow learning approaches, and it makes deep learning very effective for small-data problems.\n",
        "\n",
        "In our case, we will consider a large convnet trained on the ImageNet dataset (1.4 million labeled images and 1000 different classes). \n",
        "ImageNet contains many animal classes, including different species of cats and dogs, and we can thus expect to perform very well on our cat \n",
        "vs. dog classification problem.\n",
        "\n",
        "We will use the VGG16 architecture, developed by Karen Simonyan and Andrew Zisserman in 2014, a simple and widely used convnet architecture \n",
        "for ImageNet. Although it is a bit of an older model, far from the current state of the art and somewhat heavier than many other recent \n",
        "models, we chose it because its architecture is similar to what you are already familiar with, and easy to understand without introducing \n",
        "any new concepts. This may be your first encounter with one of these cutesie model names -- VGG, ResNet, Inception, Inception-ResNet, \n",
        "Xception... you will get used to them, as they will come up frequently if you keep doing deep learning for computer vision.\n",
        "\n",
        "There are two ways to leverage a pre-trained network: *feature extraction* and *fine-tuning*. We will cover both of them. Let's start with \n",
        "feature extraction."
      ]
    },
    {
      "cell_type": "markdown",
      "metadata": {
        "id": "kew1Opi6lzck"
      },
      "source": [
        "## Feature extraction\n",
        "\n",
        "Feature extraction consists of using the representations learned by a previous network to extract interesting features from new samples. \n",
        "These features are then run through a new classifier, which is trained from scratch.\n",
        "\n",
        "As we saw previously, convnets used for image classification comprise two parts: they start with a series of pooling and convolution \n",
        "layers, and they end with a densely-connected classifier. The first part is called the \"convolutional base\" of the model. In the case of \n",
        "convnets, \"feature extraction\" will simply consist of taking the convolutional base of a previously-trained network, running the new data \n",
        "through it, and training a new classifier on top of the output.\n",
        "\n",
        "![swapping FC classifiers](https://s3.amazonaws.com/book.keras.io/img/ch5/swapping_fc_classifier.png)\n",
        "\n",
        "Why only reuse the convolutional base? Could we reuse the densely-connected classifier as well? In general, it should be avoided. The \n",
        "reason is simply that the representations learned by the convolutional base are likely to be more generic and therefore more reusable: the \n",
        "feature maps of a convnet are presence maps of generic concepts over a picture, which is likely to be useful regardless of the computer \n",
        "vision problem at hand. On the other end, the representations learned by the classifier will necessarily be very specific to the set of \n",
        "classes that the model was trained on -- they will only contain information about the presence probability of this or that class in the \n",
        "entire picture. Additionally, representations found in densely-connected layers no longer contain any information about _where_ objects are \n",
        "located in the input image: these layers get rid of the notion of space, whereas the object location is still described by convolutional \n",
        "feature maps. For problems where object location matters, densely-connected features would be largely useless.\n",
        "\n",
        "Note that the level of generality (and therefore reusability) of the representations extracted by specific convolution layers depends on \n",
        "the depth of the layer in the model. Layers that come earlier in the model extract local, highly generic feature maps (such as visual \n",
        "edges, colors, and textures), while layers higher-up extract more abstract concepts (such as \"cat ear\" or \"dog eye\"). So if your new \n",
        "dataset differs a lot from the dataset that the original model was trained on, you may be better off using only the first few layers of the \n",
        "model to do feature extraction, rather than using the entire convolutional base.\n",
        "\n",
        "In our case, since the ImageNet class set did contain multiple dog and cat classes, it is likely that it would be beneficial to reuse the \n",
        "information contained in the densely-connected layers of the original model. However, we will chose not to, in order to cover the more \n",
        "general case where the class set of the new problem does not overlap with the class set of the original model."
      ]
    },
    {
      "cell_type": "markdown",
      "metadata": {
        "id": "rHXKTj94lzcm"
      },
      "source": [
        "Let's put this in practice by using the convolutional base of the VGG16 network, trained on ImageNet, to extract interesting features from \n",
        "our cat and dog images, and then training a cat vs. dog classifier on top of these features.\n",
        "\n",
        "The VGG16 model, among others, comes pre-packaged with Keras. You can import it from the `keras.applications` module. Here's the list of \n",
        "image classification models (all pre-trained on the ImageNet dataset) that are available as part of `keras.applications`:\n",
        "\n",
        "* Xception\n",
        "* InceptionV3\n",
        "* ResNet50\n",
        "* VGG16\n",
        "* VGG19\n",
        "* MobileNet\n",
        "\n",
        "Let's instantiate the VGG16 model:"
      ]
    },
    {
      "cell_type": "code",
      "metadata": {
        "id": "hxhHwH1dlzco",
        "colab": {
          "base_uri": "https://localhost:8080/"
        },
        "outputId": "f0eff250-d225-4986-b89a-7218c597af2e"
      },
      "source": [
        "from tensorflow.keras.applications import VGG16\n",
        "\n",
        "conv_base = VGG16(weights='imagenet',\n",
        "                  include_top=False,\n",
        "                  input_shape=(150, 150, 3))"
      ],
      "execution_count": null,
      "outputs": [
        {
          "output_type": "stream",
          "text": [
            "Downloading data from https://storage.googleapis.com/tensorflow/keras-applications/vgg16/vgg16_weights_tf_dim_ordering_tf_kernels_notop.h5\n",
            "58892288/58889256 [==============================] - 1s 0us/step\n"
          ],
          "name": "stdout"
        }
      ]
    },
    {
      "cell_type": "markdown",
      "metadata": {
        "id": "xMEB5jEllzcp"
      },
      "source": [
        "We passed three arguments to the constructor:\n",
        "\n",
        "* `weights`, to specify which weight checkpoint to initialize the model from\n",
        "* `include_top`, which refers to including or not the densely-connected classifier on top of the network. By default, this \n",
        "densely-connected classifier would correspond to the 1000 classes from ImageNet. Since we intend to use our own densely-connected \n",
        "classifier (with only two classes, cat and dog), we don't need to include it.\n",
        "* `input_shape`, the shape of the image tensors that we will feed to the network. This argument is purely optional: if we don't pass it, \n",
        "then the network will be able to process inputs of any size.\n",
        "\n",
        "Here's the detail of the architecture of the VGG16 convolutional base: it's very similar to the simple convnets that you are already \n",
        "familiar with."
      ]
    },
    {
      "cell_type": "code",
      "metadata": {
        "id": "NwVnwzbIlzcr",
        "colab": {
          "base_uri": "https://localhost:8080/"
        },
        "outputId": "dbde4d4c-9c69-4bf4-f619-1f8deb32d874"
      },
      "source": [
        "conv_base.summary()"
      ],
      "execution_count": null,
      "outputs": [
        {
          "output_type": "stream",
          "text": [
            "Model: \"vgg16\"\n",
            "_________________________________________________________________\n",
            "Layer (type)                 Output Shape              Param #   \n",
            "=================================================================\n",
            "input_1 (InputLayer)         [(None, 150, 150, 3)]     0         \n",
            "_________________________________________________________________\n",
            "block1_conv1 (Conv2D)        (None, 150, 150, 64)      1792      \n",
            "_________________________________________________________________\n",
            "block1_conv2 (Conv2D)        (None, 150, 150, 64)      36928     \n",
            "_________________________________________________________________\n",
            "block1_pool (MaxPooling2D)   (None, 75, 75, 64)        0         \n",
            "_________________________________________________________________\n",
            "block2_conv1 (Conv2D)        (None, 75, 75, 128)       73856     \n",
            "_________________________________________________________________\n",
            "block2_conv2 (Conv2D)        (None, 75, 75, 128)       147584    \n",
            "_________________________________________________________________\n",
            "block2_pool (MaxPooling2D)   (None, 37, 37, 128)       0         \n",
            "_________________________________________________________________\n",
            "block3_conv1 (Conv2D)        (None, 37, 37, 256)       295168    \n",
            "_________________________________________________________________\n",
            "block3_conv2 (Conv2D)        (None, 37, 37, 256)       590080    \n",
            "_________________________________________________________________\n",
            "block3_conv3 (Conv2D)        (None, 37, 37, 256)       590080    \n",
            "_________________________________________________________________\n",
            "block3_pool (MaxPooling2D)   (None, 18, 18, 256)       0         \n",
            "_________________________________________________________________\n",
            "block4_conv1 (Conv2D)        (None, 18, 18, 512)       1180160   \n",
            "_________________________________________________________________\n",
            "block4_conv2 (Conv2D)        (None, 18, 18, 512)       2359808   \n",
            "_________________________________________________________________\n",
            "block4_conv3 (Conv2D)        (None, 18, 18, 512)       2359808   \n",
            "_________________________________________________________________\n",
            "block4_pool (MaxPooling2D)   (None, 9, 9, 512)         0         \n",
            "_________________________________________________________________\n",
            "block5_conv1 (Conv2D)        (None, 9, 9, 512)         2359808   \n",
            "_________________________________________________________________\n",
            "block5_conv2 (Conv2D)        (None, 9, 9, 512)         2359808   \n",
            "_________________________________________________________________\n",
            "block5_conv3 (Conv2D)        (None, 9, 9, 512)         2359808   \n",
            "_________________________________________________________________\n",
            "block5_pool (MaxPooling2D)   (None, 4, 4, 512)         0         \n",
            "=================================================================\n",
            "Total params: 14,714,688\n",
            "Trainable params: 14,714,688\n",
            "Non-trainable params: 0\n",
            "_________________________________________________________________\n"
          ],
          "name": "stdout"
        }
      ]
    },
    {
      "cell_type": "markdown",
      "metadata": {
        "id": "XsllvTjRlzcs"
      },
      "source": [
        "The final feature map has shape `(4, 4, 512)`. That's the feature on top of which we will stick a densely-connected classifier.\n",
        "\n",
        "At this point, there are two ways we could proceed: \n",
        "\n",
        "* Running the convolutional base over our dataset, recording its output to a Numpy array on disk, then using this data as input to a \n",
        "standalone densely-connected classifier similar to those you have seen in the first chapters of this book. This solution is very fast and \n",
        "cheap to run, because it only requires running the convolutional base once for every input image, and the convolutional base is by far the \n",
        "most expensive part of the pipeline. However, for the exact same reason, this technique would not allow us to leverage data augmentation at \n",
        "all.\n",
        "* Extending the model we have (`conv_base`) by adding `Dense` layers on top, and running the whole thing end-to-end on the input data. This \n",
        "allows us to use data augmentation, because every input image is going through the convolutional base every time it is seen by the model. \n",
        "However, for this same reason, this technique is far more expensive than the first one.\n",
        "\n",
        "We will cover both techniques. Let's walk through the code required to set-up the first one: recording the output of `conv_base` on our \n",
        "data and using these outputs as inputs to a new model.\n",
        "\n",
        "We will start by simply running instances of the previously-introduced `ImageDataGenerator` to extract images as Numpy arrays as well as \n",
        "their labels. We will extract features from these images simply by calling the `predict` method of the `conv_base` model."
      ]
    },
    {
      "cell_type": "code",
      "metadata": {
        "id": "bW_pyYwjlzct"
      },
      "source": [
        "import os\n",
        "import numpy as np\n",
        "from tensorflow.keras.preprocessing.image import ImageDataGenerator"
      ],
      "execution_count": null,
      "outputs": []
    },
    {
      "cell_type": "code",
      "metadata": {
        "id": "Znf0Jxculzcv",
        "colab": {
          "base_uri": "https://localhost:8080/"
        },
        "outputId": "6bf619c1-65b1-4f2e-d0cd-db65214815ec"
      },
      "source": [
        "_URL = 'https://storage.googleapis.com/mledu-datasets/cats_and_dogs_filtered.zip'\n",
        "\n",
        "path_to_zip = tensorflow.keras.utils.get_file('cats_and_dogs.zip', origin=_URL, extract=True)\n",
        "\n",
        "PATH = os.path.join(os.path.dirname(path_to_zip), 'cats_and_dogs_filtered')\n",
        "\n",
        "train_dir = os.path.join(PATH, 'train')\n",
        "validation_dir = os.path.join(PATH, 'validation')\n",
        "\n",
        "train_cats_dir = os.path.join(train_dir, 'cats')  # directory with our training cat pictures\n",
        "train_dogs_dir = os.path.join(train_dir, 'dogs')  # directory with our training dog pictures\n",
        "validation_cats_dir = os.path.join(validation_dir, 'cats')  # directory with our validation cat pictures\n",
        "validation_dogs_dir = os.path.join(validation_dir, 'dogs')  # directory with our validation dog pictures"
      ],
      "execution_count": null,
      "outputs": [
        {
          "output_type": "stream",
          "text": [
            "Downloading data from https://storage.googleapis.com/mledu-datasets/cats_and_dogs_filtered.zip\n",
            "68608000/68606236 [==============================] - 1s 0us/step\n"
          ],
          "name": "stdout"
        }
      ]
    },
    {
      "cell_type": "code",
      "metadata": {
        "id": "GBe4iQpglzcw"
      },
      "source": [
        ""
      ],
      "execution_count": null,
      "outputs": []
    },
    {
      "cell_type": "code",
      "metadata": {
        "id": "sPihj2nZlzcx",
        "colab": {
          "base_uri": "https://localhost:8080/"
        },
        "outputId": "07bbee58-b04d-4b60-d805-24f5e3b6a2d5"
      },
      "source": [
        "datagen = ImageDataGenerator(rescale=1./255)\n",
        "batch_size = 20\n",
        "\n",
        "def extract_features(directory, sample_count):\n",
        "    features = np.zeros(shape=(sample_count, 4, 4, 512))\n",
        "    labels = np.zeros(shape=(sample_count))\n",
        "    generator = datagen.flow_from_directory(\n",
        "        directory,\n",
        "        target_size=(150, 150),\n",
        "        batch_size=batch_size,\n",
        "        class_mode='binary')\n",
        "    i = 0\n",
        "    for inputs_batch, labels_batch in generator:\n",
        "        features_batch = conv_base.predict(inputs_batch)\n",
        "        features[i * batch_size : (i + 1) * batch_size] = features_batch\n",
        "        labels[i * batch_size : (i + 1) * batch_size] = labels_batch\n",
        "        i += 1\n",
        "        if i * batch_size >= sample_count:\n",
        "            # Note that since generators yield data indefinitely in a loop,\n",
        "            # we must `break` after every image has been seen once.\n",
        "            break\n",
        "    return features, labels\n",
        "\n",
        "train_features, train_labels = extract_features(train_dir, 2000)\n",
        "validation_features, validation_labels = extract_features(validation_dir, 1000)\n",
        "#test_features, test_labels = extract_features(test_dir, 1000)"
      ],
      "execution_count": null,
      "outputs": [
        {
          "output_type": "stream",
          "text": [
            "Found 2000 images belonging to 2 classes.\n",
            "Found 1000 images belonging to 2 classes.\n"
          ],
          "name": "stdout"
        }
      ]
    },
    {
      "cell_type": "code",
      "metadata": {
        "id": "S7RutS59lzcy",
        "colab": {
          "base_uri": "https://localhost:8080/"
        },
        "outputId": "7e0c430a-619b-4be2-ea74-29d4258d1732"
      },
      "source": [
        "train_features.shape"
      ],
      "execution_count": null,
      "outputs": [
        {
          "output_type": "execute_result",
          "data": {
            "text/plain": [
              "(2000, 4, 4, 512)"
            ]
          },
          "metadata": {
            "tags": []
          },
          "execution_count": 7
        }
      ]
    },
    {
      "cell_type": "code",
      "metadata": {
        "id": "izueGhTflzcz"
      },
      "source": [
        ""
      ],
      "execution_count": null,
      "outputs": []
    },
    {
      "cell_type": "code",
      "metadata": {
        "id": "cR3PFJDPlzcz"
      },
      "source": [
        "#import os\n",
        "#import numpy as np\n",
        "#from tensorflow.keras.preprocessing.image import ImageDataGenerator\n",
        "\n",
        "#base_dir = '/Users/fchollet/Downloads/cats_and_dogs_small'\n",
        "\n",
        "#train_dir = os.path.join(base_dir, 'train')\n",
        "#validation_dir = os.path.join(base_dir, 'validation')\n",
        "#test_dir = os.path.join(base_dir, 'test')\n",
        "\n",
        "#datagen = ImageDataGenerator(rescale=1./255)\n",
        "#batch_size = 20\n",
        "\n",
        "def extract_features(directory, sample_count):\n",
        "    features = np.zeros(shape=(sample_count, 4, 4, 512))\n",
        "    labels = np.zeros(shape=(sample_count))\n",
        "    generator = datagen.flow_from_directory(\n",
        "        directory,\n",
        "        target_size=(150, 150),\n",
        "        batch_size=batch_size,\n",
        "        class_mode='binary')\n",
        "    i = 0\n",
        "    for inputs_batch, labels_batch in generator:\n",
        "        features_batch = conv_base.predict(inputs_batch)\n",
        "        features[i * batch_size : (i + 1) * batch_size] = features_batch\n",
        "        labels[i * batch_size : (i + 1) * batch_size] = labels_batch\n",
        "        i += 1\n",
        "        if i * batch_size >= sample_count:\n",
        "            # Note that since generators yield data indefinitely in a loop,\n",
        "            # we must `break` after every image has been seen once.\n",
        "            break\n",
        "    return features, labels\n",
        "\n",
        "#train_features, train_labels = extract_features(train_dir, 2000)\n",
        "#validation_features, validation_labels = extract_features(validation_dir, 1000)\n",
        "#test_features, test_labels = extract_features(test_dir, 1000)"
      ],
      "execution_count": null,
      "outputs": []
    },
    {
      "cell_type": "markdown",
      "metadata": {
        "id": "5gW-rA94lzc0"
      },
      "source": [
        "The extracted features are currently of shape `(samples, 4, 4, 512)`. We will feed them to a densely-connected classifier, so first we must \n",
        "flatten them to `(samples, 8192)`:"
      ]
    },
    {
      "cell_type": "code",
      "metadata": {
        "id": "ecioqZ6Nlzc1",
        "colab": {
          "base_uri": "https://localhost:8080/"
        },
        "outputId": "ea857c0f-0b2f-4024-affe-f8a0b0b4d90d"
      },
      "source": [
        "train_features.shape"
      ],
      "execution_count": null,
      "outputs": [
        {
          "output_type": "execute_result",
          "data": {
            "text/plain": [
              "(2000, 4, 4, 512)"
            ]
          },
          "metadata": {
            "tags": []
          },
          "execution_count": 10
        }
      ]
    },
    {
      "cell_type": "code",
      "metadata": {
        "id": "MWfTEdGclzc1"
      },
      "source": [
        "train_features = np.reshape(train_features, (2000, 4 * 4 * 512))\n",
        "validation_features = np.reshape(validation_features, (1000, 4 * 4 * 512))\n",
        "#test_features = np.reshape(test_features, (1000, 4 * 4 * 512))"
      ],
      "execution_count": null,
      "outputs": []
    },
    {
      "cell_type": "code",
      "metadata": {
        "id": "d4N7q_n2lzc2",
        "colab": {
          "base_uri": "https://localhost:8080/"
        },
        "outputId": "cc361097-00cf-4fc1-c36d-7e4537f6cd64"
      },
      "source": [
        "train_features.shape"
      ],
      "execution_count": null,
      "outputs": [
        {
          "output_type": "execute_result",
          "data": {
            "text/plain": [
              "(2000, 8192)"
            ]
          },
          "metadata": {
            "tags": []
          },
          "execution_count": 12
        }
      ]
    },
    {
      "cell_type": "markdown",
      "metadata": {
        "id": "jG3G1gE-lzc3"
      },
      "source": [
        "At this point, we can define our densely-connected classifier (note the use of dropout for regularization), and train it on the data and \n",
        "labels that we just recorded:"
      ]
    },
    {
      "cell_type": "code",
      "metadata": {
        "id": "hL2vIfWwlzc4",
        "colab": {
          "base_uri": "https://localhost:8080/"
        },
        "outputId": "c7389478-5528-4aca-9bec-cdc5cb988cb8"
      },
      "source": [
        "from tensorflow.keras import models\n",
        "from tensorflow.keras import layers\n",
        "from tensorflow.keras import optimizers\n",
        "\n",
        "model = models.Sequential()\n",
        "model.add(layers.Dense(256, activation='relu', input_dim=4 * 4 * 512))\n",
        "model.add(layers.Dropout(0.5))\n",
        "model.add(layers.Dense(1, activation='sigmoid'))\n",
        "\n",
        "model.compile(optimizer=optimizers.RMSprop(lr=2e-5),\n",
        "              loss='binary_crossentropy',\n",
        "              metrics=['acc'])\n",
        "\n",
        "history = model.fit(train_features, train_labels,\n",
        "                    epochs=30,\n",
        "                    batch_size=20,\n",
        "                    validation_data=(validation_features, validation_labels))"
      ],
      "execution_count": null,
      "outputs": [
        {
          "output_type": "stream",
          "text": [
            "Epoch 1/30\n",
            "100/100 [==============================] - 1s 8ms/step - loss: 0.7041 - acc: 0.5846 - val_loss: 0.4417 - val_acc: 0.8320\n",
            "Epoch 2/30\n",
            "100/100 [==============================] - 0s 4ms/step - loss: 0.4622 - acc: 0.7965 - val_loss: 0.3701 - val_acc: 0.8420\n",
            "Epoch 3/30\n",
            "100/100 [==============================] - 0s 4ms/step - loss: 0.3720 - acc: 0.8337 - val_loss: 0.3328 - val_acc: 0.8590\n",
            "Epoch 4/30\n",
            "100/100 [==============================] - 0s 4ms/step - loss: 0.3271 - acc: 0.8722 - val_loss: 0.3272 - val_acc: 0.8580\n",
            "Epoch 5/30\n",
            "100/100 [==============================] - 0s 4ms/step - loss: 0.2951 - acc: 0.8779 - val_loss: 0.3012 - val_acc: 0.8650\n",
            "Epoch 6/30\n",
            "100/100 [==============================] - 0s 4ms/step - loss: 0.2563 - acc: 0.8949 - val_loss: 0.2924 - val_acc: 0.8720\n",
            "Epoch 7/30\n",
            "100/100 [==============================] - 0s 4ms/step - loss: 0.2353 - acc: 0.9057 - val_loss: 0.2841 - val_acc: 0.8770\n",
            "Epoch 8/30\n",
            "100/100 [==============================] - 0s 4ms/step - loss: 0.2252 - acc: 0.9132 - val_loss: 0.2784 - val_acc: 0.8780\n",
            "Epoch 9/30\n",
            "100/100 [==============================] - 0s 4ms/step - loss: 0.2181 - acc: 0.9288 - val_loss: 0.2713 - val_acc: 0.8770\n",
            "Epoch 10/30\n",
            "100/100 [==============================] - 0s 4ms/step - loss: 0.2145 - acc: 0.9173 - val_loss: 0.2680 - val_acc: 0.8830\n",
            "Epoch 11/30\n",
            "100/100 [==============================] - 0s 4ms/step - loss: 0.1792 - acc: 0.9423 - val_loss: 0.2657 - val_acc: 0.8830\n",
            "Epoch 12/30\n",
            "100/100 [==============================] - 0s 4ms/step - loss: 0.1892 - acc: 0.9243 - val_loss: 0.2764 - val_acc: 0.8730\n",
            "Epoch 13/30\n",
            "100/100 [==============================] - 0s 4ms/step - loss: 0.1798 - acc: 0.9350 - val_loss: 0.2603 - val_acc: 0.8810\n",
            "Epoch 14/30\n",
            "100/100 [==============================] - 0s 4ms/step - loss: 0.1557 - acc: 0.9472 - val_loss: 0.2590 - val_acc: 0.8820\n",
            "Epoch 15/30\n",
            "100/100 [==============================] - 0s 4ms/step - loss: 0.1750 - acc: 0.9365 - val_loss: 0.2636 - val_acc: 0.8840\n",
            "Epoch 16/30\n",
            "100/100 [==============================] - 0s 4ms/step - loss: 0.1432 - acc: 0.9490 - val_loss: 0.2582 - val_acc: 0.8920\n",
            "Epoch 17/30\n",
            "100/100 [==============================] - 0s 4ms/step - loss: 0.1505 - acc: 0.9454 - val_loss: 0.2563 - val_acc: 0.8840\n",
            "Epoch 18/30\n",
            "100/100 [==============================] - 0s 4ms/step - loss: 0.1338 - acc: 0.9599 - val_loss: 0.2567 - val_acc: 0.8820\n",
            "Epoch 19/30\n",
            "100/100 [==============================] - 0s 4ms/step - loss: 0.1226 - acc: 0.9647 - val_loss: 0.2582 - val_acc: 0.8940\n",
            "Epoch 20/30\n",
            "100/100 [==============================] - 0s 4ms/step - loss: 0.1340 - acc: 0.9498 - val_loss: 0.2591 - val_acc: 0.8840\n",
            "Epoch 21/30\n",
            "100/100 [==============================] - 0s 4ms/step - loss: 0.1347 - acc: 0.9473 - val_loss: 0.2573 - val_acc: 0.8800\n",
            "Epoch 22/30\n",
            "100/100 [==============================] - 0s 4ms/step - loss: 0.1228 - acc: 0.9556 - val_loss: 0.2568 - val_acc: 0.8770\n",
            "Epoch 23/30\n",
            "100/100 [==============================] - 0s 4ms/step - loss: 0.1138 - acc: 0.9644 - val_loss: 0.2586 - val_acc: 0.8800\n",
            "Epoch 24/30\n",
            "100/100 [==============================] - 0s 4ms/step - loss: 0.1100 - acc: 0.9657 - val_loss: 0.2578 - val_acc: 0.8820\n",
            "Epoch 25/30\n",
            "100/100 [==============================] - 0s 4ms/step - loss: 0.1067 - acc: 0.9648 - val_loss: 0.2574 - val_acc: 0.8850\n",
            "Epoch 26/30\n",
            "100/100 [==============================] - 0s 4ms/step - loss: 0.1004 - acc: 0.9675 - val_loss: 0.2617 - val_acc: 0.8800\n",
            "Epoch 27/30\n",
            "100/100 [==============================] - 0s 4ms/step - loss: 0.0945 - acc: 0.9704 - val_loss: 0.2597 - val_acc: 0.8860\n",
            "Epoch 28/30\n",
            "100/100 [==============================] - 0s 4ms/step - loss: 0.0917 - acc: 0.9732 - val_loss: 0.2617 - val_acc: 0.8840\n",
            "Epoch 29/30\n",
            "100/100 [==============================] - 0s 4ms/step - loss: 0.0882 - acc: 0.9772 - val_loss: 0.2602 - val_acc: 0.8850\n",
            "Epoch 30/30\n",
            "100/100 [==============================] - 0s 4ms/step - loss: 0.0907 - acc: 0.9750 - val_loss: 0.2610 - val_acc: 0.8860\n"
          ],
          "name": "stdout"
        }
      ]
    },
    {
      "cell_type": "markdown",
      "metadata": {
        "id": "RLNYIf_flzc4"
      },
      "source": [
        "Training is very fast, since we only have to deal with two `Dense` layers -- an epoch takes less than one second even on CPU.\n",
        "\n",
        "Let's take a look at the loss and accuracy curves during training:"
      ]
    },
    {
      "cell_type": "code",
      "metadata": {
        "id": "8-z4bbDTlzc5",
        "colab": {
          "base_uri": "https://localhost:8080/",
          "height": 545
        },
        "outputId": "aaa36141-3c30-441d-bffc-3bea87249327"
      },
      "source": [
        "import matplotlib.pyplot as plt\n",
        "\n",
        "acc = history.history['acc']\n",
        "val_acc = history.history['val_acc']\n",
        "loss = history.history['loss']\n",
        "val_loss = history.history['val_loss']\n",
        "\n",
        "epochs = range(len(acc))\n",
        "\n",
        "plt.plot(epochs, acc, 'bo', label='Training acc')\n",
        "plt.plot(epochs, val_acc, 'b', label='Validation acc')\n",
        "plt.title('Training and validation accuracy')\n",
        "plt.legend()\n",
        "\n",
        "plt.figure()\n",
        "\n",
        "plt.plot(epochs, loss, 'bo', label='Training loss')\n",
        "plt.plot(epochs, val_loss, 'b', label='Validation loss')\n",
        "plt.title('Training and validation loss')\n",
        "plt.legend()\n",
        "\n",
        "plt.show()"
      ],
      "execution_count": null,
      "outputs": [
        {
          "output_type": "display_data",
          "data": {
            "image/png": "[encoded data removed]",
            "text/plain": [
              "<Figure size 432x288 with 1 Axes>"
            ]
          },
          "metadata": {
            "tags": [],
            "needs_background": "light"
          }
        },
        {
          "output_type": "display_data",
          "data": {
            "image/png": "[encoded data removed]",
            "text/plain": [
              "<Figure size 432x288 with 1 Axes>"
            ]
          },
          "metadata": {
            "tags": [],
            "needs_background": "light"
          }
        }
      ]
    },
    {
      "cell_type": "markdown",
      "metadata": {
        "id": "KDzfbKI5lzc6"
      },
      "source": [
        "\n",
        "We reach a validation accuracy of about 90%, much better than what we could achieve in the previous section with our small model trained from \n",
        "scratch. However, our plots also indicate that we are overfitting almost from the start -- despite using dropout with a fairly large rate. \n",
        "This is because this technique does not leverage data augmentation, which is essential to preventing overfitting with small image datasets.\n",
        "\n",
        "Now, let's review the second technique we mentioned for doing feature extraction, which is much slower and more expensive, but which allows \n",
        "us to leverage data augmentation during training: extending the `conv_base` model and running it end-to-end on the inputs. Note that this \n",
        "technique is in fact so expensive that you should only attempt it if you have access to a GPU: it is absolutely intractable on CPU. If you \n",
        "cannot run your code on GPU, then the previous technique is the way to go.\n",
        "\n",
        "Because models behave just like layers, you can add a model (like our `conv_base`) to a `Sequential` model just like you would add a layer. \n",
        "So you can do the following:"
      ]
    },
    {
      "cell_type": "code",
      "metadata": {
        "id": "6aji7VxXlzc6"
      },
      "source": [
        "from tensorflow.keras import models\n",
        "from tensorflow.keras import layers\n",
        "\n",
        "model = models.Sequential()\n",
        "model.add(conv_base)\n",
        "model.add(layers.Flatten())\n",
        "model.add(layers.Dense(256, activation='relu'))\n",
        "model.add(layers.Dense(1, activation='sigmoid'))"
      ],
      "execution_count": null,
      "outputs": []
    },
    {
      "cell_type": "markdown",
      "metadata": {
        "id": "4XrvIRfjlzc7"
      },
      "source": [
        "This is what our model looks like now:"
      ]
    },
    {
      "cell_type": "code",
      "metadata": {
        "id": "uw_tCiFjlzc8",
        "colab": {
          "base_uri": "https://localhost:8080/"
        },
        "outputId": "c90b188e-e37a-420a-c164-4e8ddfab7f71"
      },
      "source": [
        "model.summary()"
      ],
      "execution_count": null,
      "outputs": [
        {
          "output_type": "stream",
          "text": [
            "Model: \"sequential_1\"\n",
            "_________________________________________________________________\n",
            "Layer (type)                 Output Shape              Param #   \n",
            "=================================================================\n",
            "vgg16 (Functional)           (None, 4, 4, 512)         14714688  \n",
            "_________________________________________________________________\n",
            "flatten (Flatten)            (None, 8192)              0         \n",
            "_________________________________________________________________\n",
            "dense_2 (Dense)              (None, 256)               2097408   \n",
            "_________________________________________________________________\n",
            "dense_3 (Dense)              (None, 1)                 257       \n",
            "=================================================================\n",
            "Total params: 16,812,353\n",
            "Trainable params: 16,812,353\n",
            "Non-trainable params: 0\n",
            "_________________________________________________________________\n"
          ],
          "name": "stdout"
        }
      ]
    },
    {
      "cell_type": "markdown",
      "metadata": {
        "id": "FDZXkJFwlzc9"
      },
      "source": [
        "As you can see, the convolutional base of VGG16 has 14,714,688 parameters, which is very large. The classifier we are adding on top has 2 \n",
        "million parameters.\n",
        "\n",
        "Before we compile and train our model, a very important thing to do is to freeze the convolutional base. \"Freezing\" a layer or set of \n",
        "layers means preventing their weights from getting updated during training. If we don't do this, then the representations that were \n",
        "previously learned by the convolutional base would get modified during training. Since the `Dense` layers on top are randomly initialized, \n",
        "very large weight updates would be propagated through the network, effectively destroying the representations previously learned.\n",
        "\n",
        "In Keras, freezing a network is done by setting its `trainable` attribute to `False`:"
      ]
    },
    {
      "cell_type": "code",
      "metadata": {
        "id": "I_i_4Bmklzc-",
        "colab": {
          "base_uri": "https://localhost:8080/"
        },
        "outputId": "48e5357e-74bf-4431-ec2b-5d06bb1ef2fc"
      },
      "source": [
        "print('This is the number of trainable weights '\n",
        "      'before freezing the conv base:', len(model.trainable_weights))"
      ],
      "execution_count": null,
      "outputs": [
        {
          "output_type": "stream",
          "text": [
            "This is the number of trainable weights before freezing the conv base: 30\n"
          ],
          "name": "stdout"
        }
      ]
    },
    {
      "cell_type": "code",
      "metadata": {
        "id": "6_CDWZhClzc_"
      },
      "source": [
        "conv_base.trainable = False"
      ],
      "execution_count": null,
      "outputs": []
    },
    {
      "cell_type": "code",
      "metadata": {
        "id": "ie2tW-gVlzdA",
        "colab": {
          "base_uri": "https://localhost:8080/"
        },
        "outputId": "5da3fbde-3d14-483b-cee2-00db33f2b7d0"
      },
      "source": [
        "print('This is the number of trainable weights '\n",
        "      'after freezing the conv base:', len(model.trainable_weights))"
      ],
      "execution_count": null,
      "outputs": [
        {
          "output_type": "stream",
          "text": [
            "This is the number of trainable weights after freezing the conv base: 4\n"
          ],
          "name": "stdout"
        }
      ]
    },
    {
      "cell_type": "markdown",
      "metadata": {
        "id": "duHUGDojlzdA"
      },
      "source": [
        "With this setup, only the weights from the two `Dense` layers that we added will be trained. That's a total of four weight tensors: two per \n",
        "layer (the main weight matrix and the bias vector). Note that in order for these changes to take effect, we must first compile the model. \n",
        "If you ever modify weight trainability after compilation, you should then re-compile the model, or these changes would be ignored.\n",
        "\n",
        "Now we can start training our model, with the same data augmentation configuration that we used in our previous example:"
      ]
    },
    {
      "cell_type": "code",
      "metadata": {
        "id": "lNNTdWlolzdB",
        "colab": {
          "base_uri": "https://localhost:8080/"
        },
        "outputId": "777fec4f-0d3f-43f1-f52e-343909aa5f3f"
      },
      "source": [
        "from tensorflow.keras.preprocessing.image import ImageDataGenerator\n",
        "\n",
        "train_datagen = ImageDataGenerator(\n",
        "      rescale=1./255,\n",
        "      rotation_range=40,\n",
        "      width_shift_range=0.2,\n",
        "      height_shift_range=0.2,\n",
        "      shear_range=0.2,\n",
        "      zoom_range=0.2,\n",
        "      horizontal_flip=True,\n",
        "      fill_mode='nearest')\n",
        "\n",
        "# Note that the validation data should not be augmented!\n",
        "test_datagen = ImageDataGenerator(rescale=1./255)\n",
        "\n",
        "train_generator = train_datagen.flow_from_directory(\n",
        "        # This is the target directory\n",
        "        train_dir,\n",
        "        # All images will be resized to 150x150\n",
        "        target_size=(150, 150),\n",
        "        batch_size=20,\n",
        "        # Since we use binary_crossentropy loss, we need binary labels\n",
        "        class_mode='binary')\n",
        "\n",
        "validation_generator = test_datagen.flow_from_directory(\n",
        "        validation_dir,\n",
        "        target_size=(150, 150),\n",
        "        batch_size=20,\n",
        "        class_mode='binary')\n",
        "\n",
        "model.compile(loss='binary_crossentropy',\n",
        "              optimizer=optimizers.RMSprop(lr=2e-5),\n",
        "              metrics=['acc'])\n",
        "\n",
        "history = model.fit_generator(\n",
        "      train_generator,\n",
        "      steps_per_epoch=100,\n",
        "      epochs=30,\n",
        "      validation_data=validation_generator,\n",
        "      validation_steps=50,\n",
        "      verbose=2)"
      ],
      "execution_count": null,
      "outputs": [
        {
          "output_type": "stream",
          "text": [
            "Found 2000 images belonging to 2 classes.\n",
            "Found 1000 images belonging to 2 classes.\n"
          ],
          "name": "stdout"
        },
        {
          "output_type": "stream",
          "text": [
            "/usr/local/lib/python3.7/dist-packages/tensorflow/python/keras/engine/training.py:1844: UserWarning: `Model.fit_generator` is deprecated and will be removed in a future version. Please use `Model.fit`, which supports generators.\n",
            "  warnings.warn('`Model.fit_generator` is deprecated and '\n"
          ],
          "name": "stderr"
        },
        {
          "output_type": "stream",
          "text": [
            "Epoch 1/30\n",
            "100/100 - 19s - loss: 0.5897 - acc: 0.6950 - val_loss: 0.4518 - val_acc: 0.8080\n",
            "Epoch 2/30\n",
            "100/100 - 18s - loss: 0.4830 - acc: 0.7815 - val_loss: 0.3838 - val_acc: 0.8310\n",
            "Epoch 3/30\n",
            "100/100 - 18s - loss: 0.4374 - acc: 0.8050 - val_loss: 0.3400 - val_acc: 0.8550\n",
            "Epoch 4/30\n",
            "100/100 - 18s - loss: 0.4110 - acc: 0.8145 - val_loss: 0.3208 - val_acc: 0.8580\n",
            "Epoch 5/30\n",
            "100/100 - 18s - loss: 0.3904 - acc: 0.8215 - val_loss: 0.3081 - val_acc: 0.8630\n",
            "Epoch 6/30\n",
            "100/100 - 18s - loss: 0.3700 - acc: 0.8385 - val_loss: 0.3011 - val_acc: 0.8670\n",
            "Epoch 7/30\n",
            "100/100 - 18s - loss: 0.3593 - acc: 0.8380 - val_loss: 0.2904 - val_acc: 0.8740\n",
            "Epoch 8/30\n",
            "100/100 - 18s - loss: 0.3538 - acc: 0.8445 - val_loss: 0.2872 - val_acc: 0.8750\n",
            "Epoch 9/30\n",
            "100/100 - 18s - loss: 0.3540 - acc: 0.8440 - val_loss: 0.2934 - val_acc: 0.8760\n",
            "Epoch 10/30\n",
            "100/100 - 18s - loss: 0.3402 - acc: 0.8585 - val_loss: 0.2783 - val_acc: 0.8740\n",
            "Epoch 11/30\n",
            "100/100 - 18s - loss: 0.3277 - acc: 0.8575 - val_loss: 0.2746 - val_acc: 0.8790\n",
            "Epoch 12/30\n",
            "100/100 - 18s - loss: 0.3315 - acc: 0.8575 - val_loss: 0.2748 - val_acc: 0.8790\n",
            "Epoch 13/30\n",
            "100/100 - 18s - loss: 0.3187 - acc: 0.8635 - val_loss: 0.2760 - val_acc: 0.8840\n",
            "Epoch 14/30\n",
            "100/100 - 18s - loss: 0.3164 - acc: 0.8680 - val_loss: 0.2685 - val_acc: 0.8830\n",
            "Epoch 15/30\n",
            "100/100 - 18s - loss: 0.3221 - acc: 0.8600 - val_loss: 0.2676 - val_acc: 0.8820\n",
            "Epoch 16/30\n",
            "100/100 - 18s - loss: 0.3103 - acc: 0.8615 - val_loss: 0.2776 - val_acc: 0.8880\n",
            "Epoch 17/30\n",
            "100/100 - 18s - loss: 0.3076 - acc: 0.8675 - val_loss: 0.2645 - val_acc: 0.8750\n",
            "Epoch 18/30\n",
            "100/100 - 18s - loss: 0.3042 - acc: 0.8665 - val_loss: 0.2652 - val_acc: 0.8890\n",
            "Epoch 19/30\n",
            "100/100 - 18s - loss: 0.3056 - acc: 0.8680 - val_loss: 0.2600 - val_acc: 0.8890\n",
            "Epoch 20/30\n",
            "100/100 - 18s - loss: 0.3100 - acc: 0.8630 - val_loss: 0.2583 - val_acc: 0.8840\n",
            "Epoch 21/30\n",
            "100/100 - 18s - loss: 0.2922 - acc: 0.8730 - val_loss: 0.2561 - val_acc: 0.8870\n",
            "Epoch 22/30\n",
            "100/100 - 18s - loss: 0.2932 - acc: 0.8710 - val_loss: 0.2545 - val_acc: 0.8890\n",
            "Epoch 23/30\n",
            "100/100 - 18s - loss: 0.2963 - acc: 0.8755 - val_loss: 0.2770 - val_acc: 0.8880\n",
            "Epoch 24/30\n",
            "100/100 - 18s - loss: 0.2848 - acc: 0.8770 - val_loss: 0.2593 - val_acc: 0.8830\n",
            "Epoch 25/30\n",
            "100/100 - 18s - loss: 0.2938 - acc: 0.8785 - val_loss: 0.2512 - val_acc: 0.8880\n",
            "Epoch 26/30\n",
            "100/100 - 18s - loss: 0.2861 - acc: 0.8795 - val_loss: 0.2529 - val_acc: 0.8880\n",
            "Epoch 27/30\n",
            "100/100 - 18s - loss: 0.2820 - acc: 0.8840 - val_loss: 0.2603 - val_acc: 0.8910\n",
            "Epoch 28/30\n",
            "100/100 - 18s - loss: 0.2750 - acc: 0.8825 - val_loss: 0.2593 - val_acc: 0.8890\n",
            "Epoch 29/30\n",
            "100/100 - 18s - loss: 0.2883 - acc: 0.8795 - val_loss: 0.2665 - val_acc: 0.8760\n",
            "Epoch 30/30\n",
            "100/100 - 18s - loss: 0.2887 - acc: 0.8790 - val_loss: 0.2790 - val_acc: 0.8870\n"
          ],
          "name": "stdout"
        }
      ]
    },
    {
      "cell_type": "code",
      "metadata": {
        "id": "qVcmUGRhlzdC"
      },
      "source": [
        "model.save('cats_and_dogs_small_3.h5')"
      ],
      "execution_count": null,
      "outputs": []
    },
    {
      "cell_type": "markdown",
      "metadata": {
        "id": "Zkt8FFAblzdC"
      },
      "source": [
        "Let's plot our results again:"
      ]
    },
    {
      "cell_type": "code",
      "metadata": {
        "id": "BeD3TDP9lzdD",
        "colab": {
          "base_uri": "https://localhost:8080/",
          "height": 545
        },
        "outputId": "001d0719-19e2-45b9-8843-ae37ce9d2343"
      },
      "source": [
        "acc = history.history['acc']\n",
        "val_acc = history.history['val_acc']\n",
        "loss = history.history['loss']\n",
        "val_loss = history.history['val_loss']\n",
        "\n",
        "epochs = range(len(acc))\n",
        "\n",
        "plt.plot(epochs, acc, 'bo', label='Training acc')\n",
        "plt.plot(epochs, val_acc, 'b', label='Validation acc')\n",
        "plt.title('Training and validation accuracy')\n",
        "plt.legend()\n",
        "\n",
        "plt.figure()\n",
        "\n",
        "plt.plot(epochs, loss, 'bo', label='Training loss')\n",
        "plt.plot(epochs, val_loss, 'b', label='Validation loss')\n",
        "plt.title('Training and validation loss')\n",
        "plt.legend()\n",
        "\n",
        "plt.show()"
      ],
      "execution_count": null,
      "outputs": [
        {
          "output_type": "display_data",
          "data": {
            "image/png": "[encoded data removed]",
            "text/plain": [
              "<Figure size 432x288 with 1 Axes>"
            ]
          },
          "metadata": {
            "tags": [],
            "needs_background": "light"
          }
        },
        {
          "output_type": "display_data",
          "data": {
            "image/png": "[encoded data removed]",
            "text/plain": [
              "<Figure size 432x288 with 1 Axes>"
            ]
          },
          "metadata": {
            "tags": [],
            "needs_background": "light"
          }
        }
      ]
    },
    {
      "cell_type": "markdown",
      "metadata": {
        "id": "kAdMxuRrlzdD"
      },
      "source": [
        "As you can see, we reach a validation accuracy of about 96%. This is much better than our small convnet trained from scratch."
      ]
    },
    {
      "cell_type": "markdown",
      "metadata": {
        "id": "I2nTRjqDlzdE"
      },
      "source": [
        "## Fine-tuning\n",
        "\n",
        "Another widely used technique for model reuse, complementary to feature extraction, is _fine-tuning_. \n",
        "Fine-tuning consists in unfreezing a few of the top layers \n",
        "of a frozen model base used for feature extraction, and jointly training both the newly added part of the model (in our case, the \n",
        "fully-connected classifier) and these top layers. This is called \"fine-tuning\" because it slightly adjusts the more abstract \n",
        "representations of the model being reused, in order to make them more relevant for the problem at hand.\n",
        "\n",
        "![fine-tuning VGG16](https://s3.amazonaws.com/book.keras.io/img/ch5/vgg16_fine_tuning.png)"
      ]
    },
    {
      "cell_type": "markdown",
      "metadata": {
        "id": "cdBK7v7ZlzdE"
      },
      "source": [
        "We have stated before that it was necessary to freeze the convolution base of VGG16 in order to be able to train a randomly initialized \n",
        "classifier on top. For the same reason, it is only possible to fine-tune the top layers of the convolutional base once the classifier on \n",
        "top has already been trained. If the classified wasn't already trained, then the error signal propagating through the network during \n",
        "training would be too large, and the representations previously learned by the layers being fine-tuned would be destroyed. Thus the steps \n",
        "for fine-tuning a network are as follow:\n",
        "\n",
        "* 1) Add your custom network on top of an already trained base network.\n",
        "* 2) Freeze the base network.\n",
        "* 3) Train the part you added.\n",
        "* 4) Unfreeze some layers in the base network.\n",
        "* 5) Jointly train both these layers and the part you added.\n",
        "\n",
        "We have already completed the first 3 steps when doing feature extraction. Let's proceed with the 4th step: we will unfreeze our `conv_base`, \n",
        "and then freeze individual layers inside of it.\n",
        "\n",
        "As a reminder, this is what our convolutional base looks like:"
      ]
    },
    {
      "cell_type": "code",
      "metadata": {
        "id": "2xP6yAYslzdE",
        "colab": {
          "base_uri": "https://localhost:8080/"
        },
        "outputId": "f3ad703d-928f-4eae-ca44-b0bbfd29b389"
      },
      "source": [
        "conv_base.summary()"
      ],
      "execution_count": null,
      "outputs": [
        {
          "output_type": "stream",
          "text": [
            "Model: \"vgg16\"\n",
            "_________________________________________________________________\n",
            "Layer (type)                 Output Shape              Param #   \n",
            "=================================================================\n",
            "input_1 (InputLayer)         [(None, 150, 150, 3)]     0         \n",
            "_________________________________________________________________\n",
            "block1_conv1 (Conv2D)        (None, 150, 150, 64)      1792      \n",
            "_________________________________________________________________\n",
            "block1_conv2 (Conv2D)        (None, 150, 150, 64)      36928     \n",
            "_________________________________________________________________\n",
            "block1_pool (MaxPooling2D)   (None, 75, 75, 64)        0         \n",
            "_________________________________________________________________\n",
            "block2_conv1 (Conv2D)        (None, 75, 75, 128)       73856     \n",
            "_________________________________________________________________\n",
            "block2_conv2 (Conv2D)        (None, 75, 75, 128)       147584    \n",
            "_________________________________________________________________\n",
            "block2_pool (MaxPooling2D)   (None, 37, 37, 128)       0         \n",
            "_________________________________________________________________\n",
            "block3_conv1 (Conv2D)        (None, 37, 37, 256)       295168    \n",
            "_________________________________________________________________\n",
            "block3_conv2 (Conv2D)        (None, 37, 37, 256)       590080    \n",
            "_________________________________________________________________\n",
            "block3_conv3 (Conv2D)        (None, 37, 37, 256)       590080    \n",
            "_________________________________________________________________\n",
            "block3_pool (MaxPooling2D)   (None, 18, 18, 256)       0         \n",
            "_________________________________________________________________\n",
            "block4_conv1 (Conv2D)        (None, 18, 18, 512)       1180160   \n",
            "_________________________________________________________________\n",
            "block4_conv2 (Conv2D)        (None, 18, 18, 512)       2359808   \n",
            "_________________________________________________________________\n",
            "block4_conv3 (Conv2D)        (None, 18, 18, 512)       2359808   \n",
            "_________________________________________________________________\n",
            "block4_pool (MaxPooling2D)   (None, 9, 9, 512)         0         \n",
            "_________________________________________________________________\n",
            "block5_conv1 (Conv2D)        (None, 9, 9, 512)         2359808   \n",
            "_________________________________________________________________\n",
            "block5_conv2 (Conv2D)        (None, 9, 9, 512)         2359808   \n",
            "_________________________________________________________________\n",
            "block5_conv3 (Conv2D)        (None, 9, 9, 512)         2359808   \n",
            "_________________________________________________________________\n",
            "block5_pool (MaxPooling2D)   (None, 4, 4, 512)         0         \n",
            "=================================================================\n",
            "Total params: 14,714,688\n",
            "Trainable params: 0\n",
            "Non-trainable params: 14,714,688\n",
            "_________________________________________________________________\n"
          ],
          "name": "stdout"
        }
      ]
    },
    {
      "cell_type": "markdown",
      "metadata": {
        "id": "pkVllFf6lzdF"
      },
      "source": [
        "\n",
        "We will fine-tune the last 3 convolutional layers, which means that all layers up until `block4_pool` should be frozen, and the layers \n",
        "`block5_conv1`, `block5_conv2` and `block5_conv3` should be trainable.\n",
        "\n",
        "Why not fine-tune more layers? Why not fine-tune the entire convolutional base? We could. However, we need to consider that:\n",
        "\n",
        "* Earlier layers in the convolutional base encode more generic, reusable features, while layers higher up encode more specialized features. It is \n",
        "more useful to fine-tune the more specialized features, as these are the ones that need to be repurposed on our new problem. There would \n",
        "be fast-decreasing returns in fine-tuning lower layers.\n",
        "* The more parameters we are training, the more we are at risk of overfitting. The convolutional base has 15M parameters, so it would be \n",
        "risky to attempt to train it on our small dataset.\n",
        "\n",
        "Thus, in our situation, it is a good strategy to only fine-tune the top 2 to 3 layers in the convolutional base.\n",
        "\n",
        "Let's set this up, starting from where we left off in the previous example:"
      ]
    },
    {
      "cell_type": "code",
      "metadata": {
        "id": "8dz8zrMBlzdF"
      },
      "source": [
        "conv_base.trainable = True\n",
        "\n",
        "set_trainable = False\n",
        "for layer in conv_base.layers:\n",
        "    if layer.name == 'block5_conv1':\n",
        "        set_trainable = True\n",
        "    if set_trainable:\n",
        "        layer.trainable = True\n",
        "    else:\n",
        "        layer.trainable = False"
      ],
      "execution_count": null,
      "outputs": []
    },
    {
      "cell_type": "markdown",
      "metadata": {
        "id": "bLgvYa3WlzdF"
      },
      "source": [
        "Now we can start fine-tuning our network. We will do this with the RMSprop optimizer, using a very low learning rate. The reason for using \n",
        "a low learning rate is that we want to limit the magnitude of the modifications we make to the representations of the 3 layers that we are \n",
        "fine-tuning. Updates that are too large may harm these representations.\n",
        "\n",
        "Now let's proceed with fine-tuning:"
      ]
    },
    {
      "cell_type": "code",
      "metadata": {
        "scrolled": true,
        "id": "HZRtNiyvlzdG",
        "colab": {
          "base_uri": "https://localhost:8080/"
        },
        "outputId": "d917785f-ccd5-47f6-8380-a7ce69682039"
      },
      "source": [
        "model.compile(loss='binary_crossentropy',\n",
        "              optimizer=optimizers.RMSprop(lr=1e-5),\n",
        "              metrics=['acc'])\n",
        "\n",
        "history = model.fit_generator(\n",
        "      train_generator,\n",
        "      steps_per_epoch=100,\n",
        "      epochs=100,\n",
        "      validation_data=validation_generator,\n",
        "      validation_steps=50)"
      ],
      "execution_count": null,
      "outputs": [
        {
          "output_type": "stream",
          "text": [
            "/usr/local/lib/python3.7/dist-packages/tensorflow/python/keras/engine/training.py:1844: UserWarning: `Model.fit_generator` is deprecated and will be removed in a future version. Please use `Model.fit`, which supports generators.\n",
            "  warnings.warn('`Model.fit_generator` is deprecated and '\n"
          ],
          "name": "stderr"
        },
        {
          "output_type": "stream",
          "text": [
            "Epoch 1/100\n",
            "100/100 [==============================] - 20s 191ms/step - loss: 0.2765 - acc: 0.8869 - val_loss: 0.2403 - val_acc: 0.9010\n",
            "Epoch 2/100\n",
            "100/100 [==============================] - 19s 189ms/step - loss: 0.2524 - acc: 0.8961 - val_loss: 0.2205 - val_acc: 0.9110\n",
            "Epoch 3/100\n",
            "100/100 [==============================] - 19s 187ms/step - loss: 0.2236 - acc: 0.9032 - val_loss: 0.2423 - val_acc: 0.9170\n",
            "Epoch 4/100\n",
            "100/100 [==============================] - 19s 188ms/step - loss: 0.2186 - acc: 0.9044 - val_loss: 0.2562 - val_acc: 0.9140\n",
            "Epoch 5/100\n",
            "100/100 [==============================] - 19s 188ms/step - loss: 0.1852 - acc: 0.9338 - val_loss: 0.1979 - val_acc: 0.9270\n",
            "Epoch 6/100\n",
            "100/100 [==============================] - 19s 188ms/step - loss: 0.2039 - acc: 0.9171 - val_loss: 0.2756 - val_acc: 0.9130\n",
            "Epoch 7/100\n",
            "100/100 [==============================] - 19s 189ms/step - loss: 0.1872 - acc: 0.9290 - val_loss: 0.2283 - val_acc: 0.9220\n",
            "Epoch 8/100\n",
            "100/100 [==============================] - 19s 188ms/step - loss: 0.1851 - acc: 0.9295 - val_loss: 0.2005 - val_acc: 0.9280\n",
            "Epoch 9/100\n",
            "100/100 [==============================] - 19s 188ms/step - loss: 0.1616 - acc: 0.9361 - val_loss: 0.1896 - val_acc: 0.9350\n",
            "Epoch 10/100\n",
            "100/100 [==============================] - 19s 188ms/step - loss: 0.1439 - acc: 0.9397 - val_loss: 0.2494 - val_acc: 0.9210\n",
            "Epoch 11/100\n",
            "100/100 [==============================] - 19s 188ms/step - loss: 0.1554 - acc: 0.9356 - val_loss: 0.1841 - val_acc: 0.9380\n",
            "Epoch 12/100\n",
            "100/100 [==============================] - 19s 188ms/step - loss: 0.1337 - acc: 0.9427 - val_loss: 0.2409 - val_acc: 0.9290\n",
            "Epoch 13/100\n",
            "100/100 [==============================] - 19s 188ms/step - loss: 0.1131 - acc: 0.9527 - val_loss: 0.2430 - val_acc: 0.9310\n",
            "Epoch 14/100\n",
            "100/100 [==============================] - 19s 187ms/step - loss: 0.1314 - acc: 0.9486 - val_loss: 0.2571 - val_acc: 0.9120\n",
            "Epoch 15/100\n",
            "100/100 [==============================] - 19s 188ms/step - loss: 0.1176 - acc: 0.9458 - val_loss: 0.2091 - val_acc: 0.9380\n",
            "Epoch 16/100\n",
            "100/100 [==============================] - 19s 189ms/step - loss: 0.1175 - acc: 0.9575 - val_loss: 0.2308 - val_acc: 0.9360\n",
            "Epoch 17/100\n",
            "100/100 [==============================] - 19s 189ms/step - loss: 0.0845 - acc: 0.9634 - val_loss: 0.2593 - val_acc: 0.9270\n",
            "Epoch 18/100\n",
            "100/100 [==============================] - 19s 188ms/step - loss: 0.0959 - acc: 0.9559 - val_loss: 0.2520 - val_acc: 0.9320\n",
            "Epoch 19/100\n",
            "100/100 [==============================] - 19s 187ms/step - loss: 0.0958 - acc: 0.9600 - val_loss: 0.2363 - val_acc: 0.9350\n",
            "Epoch 20/100\n",
            "100/100 [==============================] - 19s 188ms/step - loss: 0.0848 - acc: 0.9724 - val_loss: 0.2389 - val_acc: 0.9360\n",
            "Epoch 21/100\n",
            "100/100 [==============================] - 19s 189ms/step - loss: 0.1011 - acc: 0.9637 - val_loss: 0.1906 - val_acc: 0.9390\n",
            "Epoch 22/100\n",
            "100/100 [==============================] - 19s 188ms/step - loss: 0.1016 - acc: 0.9546 - val_loss: 0.1812 - val_acc: 0.9430\n",
            "Epoch 23/100\n",
            "100/100 [==============================] - 19s 188ms/step - loss: 0.0981 - acc: 0.9574 - val_loss: 0.1765 - val_acc: 0.9470\n",
            "Epoch 24/100\n",
            "100/100 [==============================] - 19s 188ms/step - loss: 0.0687 - acc: 0.9714 - val_loss: 0.3271 - val_acc: 0.9160\n",
            "Epoch 25/100\n",
            "100/100 [==============================] - 19s 188ms/step - loss: 0.1087 - acc: 0.9564 - val_loss: 0.2453 - val_acc: 0.9200\n",
            "Epoch 26/100\n",
            "100/100 [==============================] - 19s 190ms/step - loss: 0.0843 - acc: 0.9682 - val_loss: 0.2194 - val_acc: 0.9380\n",
            "Epoch 27/100\n",
            "100/100 [==============================] - 19s 188ms/step - loss: 0.0747 - acc: 0.9725 - val_loss: 0.1834 - val_acc: 0.9450\n",
            "Epoch 28/100\n",
            "100/100 [==============================] - 19s 188ms/step - loss: 0.0680 - acc: 0.9757 - val_loss: 0.2122 - val_acc: 0.9380\n",
            "Epoch 29/100\n",
            "100/100 [==============================] - 19s 188ms/step - loss: 0.0638 - acc: 0.9754 - val_loss: 0.2990 - val_acc: 0.9250\n",
            "Epoch 30/100\n",
            "100/100 [==============================] - 19s 189ms/step - loss: 0.0582 - acc: 0.9841 - val_loss: 0.2224 - val_acc: 0.9400\n",
            "Epoch 31/100\n",
            "100/100 [==============================] - 19s 188ms/step - loss: 0.0568 - acc: 0.9837 - val_loss: 0.2393 - val_acc: 0.9400\n",
            "Epoch 32/100\n",
            "100/100 [==============================] - 19s 190ms/step - loss: 0.0591 - acc: 0.9742 - val_loss: 0.2018 - val_acc: 0.9430\n",
            "Epoch 33/100\n",
            "100/100 [==============================] - 19s 188ms/step - loss: 0.0691 - acc: 0.9708 - val_loss: 0.2059 - val_acc: 0.9410\n",
            "Epoch 34/100\n",
            "100/100 [==============================] - 19s 189ms/step - loss: 0.0554 - acc: 0.9832 - val_loss: 0.2288 - val_acc: 0.9500\n",
            "Epoch 35/100\n",
            "100/100 [==============================] - 19s 189ms/step - loss: 0.0579 - acc: 0.9853 - val_loss: 0.2456 - val_acc: 0.9370\n",
            "Epoch 36/100\n",
            "100/100 [==============================] - 19s 188ms/step - loss: 0.0545 - acc: 0.9754 - val_loss: 0.2123 - val_acc: 0.9380\n",
            "Epoch 37/100\n",
            "100/100 [==============================] - 19s 189ms/step - loss: 0.0567 - acc: 0.9820 - val_loss: 0.2028 - val_acc: 0.9440\n",
            "Epoch 38/100\n",
            "100/100 [==============================] - 19s 189ms/step - loss: 0.0382 - acc: 0.9852 - val_loss: 0.2187 - val_acc: 0.9470\n",
            "Epoch 39/100\n",
            "100/100 [==============================] - 19s 188ms/step - loss: 0.0589 - acc: 0.9813 - val_loss: 0.2008 - val_acc: 0.9450\n",
            "Epoch 40/100\n",
            "100/100 [==============================] - 19s 189ms/step - loss: 0.0524 - acc: 0.9839 - val_loss: 0.2876 - val_acc: 0.9370\n",
            "Epoch 41/100\n",
            "100/100 [==============================] - 19s 188ms/step - loss: 0.0407 - acc: 0.9830 - val_loss: 0.2232 - val_acc: 0.9380\n",
            "Epoch 42/100\n",
            "100/100 [==============================] - 19s 188ms/step - loss: 0.0357 - acc: 0.9873 - val_loss: 0.3808 - val_acc: 0.9220\n",
            "Epoch 43/100\n",
            "100/100 [==============================] - 19s 188ms/step - loss: 0.0511 - acc: 0.9839 - val_loss: 0.2251 - val_acc: 0.9490\n",
            "Epoch 44/100\n",
            "100/100 [==============================] - 19s 188ms/step - loss: 0.0369 - acc: 0.9854 - val_loss: 0.2016 - val_acc: 0.9510\n",
            "Epoch 45/100\n",
            "100/100 [==============================] - 19s 188ms/step - loss: 0.0393 - acc: 0.9880 - val_loss: 0.2385 - val_acc: 0.9460\n",
            "Epoch 46/100\n",
            "100/100 [==============================] - 19s 188ms/step - loss: 0.0422 - acc: 0.9845 - val_loss: 0.2159 - val_acc: 0.9490\n",
            "Epoch 47/100\n",
            "100/100 [==============================] - 19s 189ms/step - loss: 0.0463 - acc: 0.9833 - val_loss: 0.2891 - val_acc: 0.9310\n",
            "Epoch 48/100\n",
            "100/100 [==============================] - 19s 187ms/step - loss: 0.0372 - acc: 0.9832 - val_loss: 0.3838 - val_acc: 0.9210\n",
            "Epoch 49/100\n",
            "100/100 [==============================] - 19s 189ms/step - loss: 0.0545 - acc: 0.9769 - val_loss: 0.2111 - val_acc: 0.9560\n",
            "Epoch 50/100\n",
            "100/100 [==============================] - 19s 188ms/step - loss: 0.0361 - acc: 0.9854 - val_loss: 0.2332 - val_acc: 0.9490\n",
            "Epoch 51/100\n",
            "100/100 [==============================] - 19s 189ms/step - loss: 0.0336 - acc: 0.9884 - val_loss: 0.2402 - val_acc: 0.9450\n",
            "Epoch 52/100\n",
            "100/100 [==============================] - 19s 189ms/step - loss: 0.0292 - acc: 0.9897 - val_loss: 0.2086 - val_acc: 0.9490\n",
            "Epoch 53/100\n",
            "100/100 [==============================] - 19s 187ms/step - loss: 0.0414 - acc: 0.9862 - val_loss: 0.2499 - val_acc: 0.9460\n",
            "Epoch 54/100\n",
            "100/100 [==============================] - 19s 189ms/step - loss: 0.0360 - acc: 0.9860 - val_loss: 0.2576 - val_acc: 0.9510\n",
            "Epoch 55/100\n",
            "100/100 [==============================] - 19s 190ms/step - loss: 0.0320 - acc: 0.9876 - val_loss: 0.2210 - val_acc: 0.9540\n",
            "Epoch 56/100\n",
            "100/100 [==============================] - 19s 190ms/step - loss: 0.0360 - acc: 0.9869 - val_loss: 0.2618 - val_acc: 0.9460\n",
            "Epoch 57/100\n",
            "100/100 [==============================] - 19s 188ms/step - loss: 0.0437 - acc: 0.9819 - val_loss: 0.2492 - val_acc: 0.9490\n",
            "Epoch 58/100\n",
            "100/100 [==============================] - 19s 188ms/step - loss: 0.0309 - acc: 0.9878 - val_loss: 0.3073 - val_acc: 0.9350\n",
            "Epoch 59/100\n",
            "100/100 [==============================] - 19s 188ms/step - loss: 0.0252 - acc: 0.9878 - val_loss: 0.2388 - val_acc: 0.9530\n",
            "Epoch 60/100\n",
            "100/100 [==============================] - 19s 189ms/step - loss: 0.0263 - acc: 0.9908 - val_loss: 0.2919 - val_acc: 0.9400\n",
            "Epoch 61/100\n",
            "100/100 [==============================] - 19s 187ms/step - loss: 0.0338 - acc: 0.9896 - val_loss: 0.2374 - val_acc: 0.9420\n",
            "Epoch 62/100\n",
            "100/100 [==============================] - 19s 187ms/step - loss: 0.0212 - acc: 0.9950 - val_loss: 0.2344 - val_acc: 0.9530\n",
            "Epoch 63/100\n",
            "100/100 [==============================] - 19s 188ms/step - loss: 0.0162 - acc: 0.9958 - val_loss: 0.2262 - val_acc: 0.9540\n",
            "Epoch 64/100\n",
            "100/100 [==============================] - 19s 188ms/step - loss: 0.0206 - acc: 0.9911 - val_loss: 0.2371 - val_acc: 0.9520\n",
            "Epoch 65/100\n",
            "100/100 [==============================] - 19s 191ms/step - loss: 0.0208 - acc: 0.9928 - val_loss: 0.3802 - val_acc: 0.9310\n",
            "Epoch 66/100\n",
            "100/100 [==============================] - 19s 187ms/step - loss: 0.0277 - acc: 0.9916 - val_loss: 0.2406 - val_acc: 0.9420\n",
            "Epoch 67/100\n",
            "100/100 [==============================] - 19s 188ms/step - loss: 0.0286 - acc: 0.9887 - val_loss: 0.2266 - val_acc: 0.9500\n",
            "Epoch 68/100\n",
            "100/100 [==============================] - 19s 188ms/step - loss: 0.0410 - acc: 0.9844 - val_loss: 0.4388 - val_acc: 0.9260\n",
            "Epoch 69/100\n",
            "100/100 [==============================] - 19s 189ms/step - loss: 0.0215 - acc: 0.9893 - val_loss: 0.2223 - val_acc: 0.9420\n",
            "Epoch 70/100\n",
            "100/100 [==============================] - 19s 188ms/step - loss: 0.0320 - acc: 0.9911 - val_loss: 0.2297 - val_acc: 0.9460\n",
            "Epoch 71/100\n",
            "100/100 [==============================] - 19s 187ms/step - loss: 0.0363 - acc: 0.9832 - val_loss: 0.2646 - val_acc: 0.9430\n",
            "Epoch 72/100\n",
            "100/100 [==============================] - 19s 189ms/step - loss: 0.0257 - acc: 0.9927 - val_loss: 0.2425 - val_acc: 0.9520\n",
            "Epoch 73/100\n",
            "100/100 [==============================] - 19s 188ms/step - loss: 0.0265 - acc: 0.9929 - val_loss: 0.2862 - val_acc: 0.9390\n",
            "Epoch 74/100\n",
            "100/100 [==============================] - 19s 187ms/step - loss: 0.0222 - acc: 0.9951 - val_loss: 0.3658 - val_acc: 0.9340\n",
            "Epoch 75/100\n",
            "100/100 [==============================] - 19s 188ms/step - loss: 0.0187 - acc: 0.9918 - val_loss: 0.3067 - val_acc: 0.9470\n",
            "Epoch 76/100\n",
            "100/100 [==============================] - 19s 188ms/step - loss: 0.0254 - acc: 0.9912 - val_loss: 0.2545 - val_acc: 0.9550\n",
            "Epoch 77/100\n",
            "100/100 [==============================] - 19s 189ms/step - loss: 0.0202 - acc: 0.9900 - val_loss: 0.2825 - val_acc: 0.9500\n",
            "Epoch 78/100\n",
            "100/100 [==============================] - 19s 188ms/step - loss: 0.0284 - acc: 0.9904 - val_loss: 0.3048 - val_acc: 0.9480\n",
            "Epoch 79/100\n",
            "100/100 [==============================] - 19s 188ms/step - loss: 0.0233 - acc: 0.9904 - val_loss: 0.2665 - val_acc: 0.9530\n",
            "Epoch 80/100\n",
            "100/100 [==============================] - 19s 188ms/step - loss: 0.0198 - acc: 0.9928 - val_loss: 0.2530 - val_acc: 0.9500\n",
            "Epoch 81/100\n",
            "100/100 [==============================] - 19s 188ms/step - loss: 0.0312 - acc: 0.9890 - val_loss: 0.2664 - val_acc: 0.9490\n",
            "Epoch 82/100\n",
            "100/100 [==============================] - 19s 189ms/step - loss: 0.0230 - acc: 0.9938 - val_loss: 0.2848 - val_acc: 0.9390\n",
            "Epoch 83/100\n",
            "100/100 [==============================] - 19s 188ms/step - loss: 0.0301 - acc: 0.9911 - val_loss: 0.2487 - val_acc: 0.9500\n",
            "Epoch 84/100\n",
            "100/100 [==============================] - 19s 188ms/step - loss: 0.0185 - acc: 0.9963 - val_loss: 0.3441 - val_acc: 0.9420\n",
            "Epoch 85/100\n",
            "100/100 [==============================] - 19s 188ms/step - loss: 0.0415 - acc: 0.9879 - val_loss: 0.2523 - val_acc: 0.9490\n",
            "Epoch 86/100\n",
            "100/100 [==============================] - 19s 188ms/step - loss: 0.0168 - acc: 0.9954 - val_loss: 0.2628 - val_acc: 0.9520\n",
            "Epoch 87/100\n",
            "100/100 [==============================] - 19s 187ms/step - loss: 0.0307 - acc: 0.9875 - val_loss: 0.3207 - val_acc: 0.9420\n",
            "Epoch 88/100\n",
            "100/100 [==============================] - 19s 188ms/step - loss: 0.0244 - acc: 0.9904 - val_loss: 0.3156 - val_acc: 0.9410\n",
            "Epoch 89/100\n",
            "100/100 [==============================] - 19s 188ms/step - loss: 0.0219 - acc: 0.9946 - val_loss: 0.3027 - val_acc: 0.9430\n",
            "Epoch 90/100\n",
            "100/100 [==============================] - 19s 190ms/step - loss: 0.0182 - acc: 0.9959 - val_loss: 0.2811 - val_acc: 0.9540\n",
            "Epoch 91/100\n",
            "100/100 [==============================] - 19s 188ms/step - loss: 0.0211 - acc: 0.9905 - val_loss: 0.2646 - val_acc: 0.9520\n",
            "Epoch 92/100\n",
            "100/100 [==============================] - 19s 188ms/step - loss: 0.0261 - acc: 0.9913 - val_loss: 0.3370 - val_acc: 0.9370\n",
            "Epoch 93/100\n",
            "100/100 [==============================] - 19s 188ms/step - loss: 0.0212 - acc: 0.9933 - val_loss: 0.2766 - val_acc: 0.9500\n",
            "Epoch 94/100\n",
            "100/100 [==============================] - 19s 187ms/step - loss: 0.0144 - acc: 0.9947 - val_loss: 0.5501 - val_acc: 0.9210\n",
            "Epoch 95/100\n",
            "100/100 [==============================] - 19s 189ms/step - loss: 0.0218 - acc: 0.9919 - val_loss: 0.5409 - val_acc: 0.9250\n",
            "Epoch 96/100\n",
            "100/100 [==============================] - 19s 188ms/step - loss: 0.0185 - acc: 0.9928 - val_loss: 0.2563 - val_acc: 0.9510\n",
            "Epoch 97/100\n",
            "100/100 [==============================] - 19s 188ms/step - loss: 0.0225 - acc: 0.9909 - val_loss: 0.3548 - val_acc: 0.9500\n",
            "Epoch 98/100\n",
            "100/100 [==============================] - 19s 190ms/step - loss: 0.0175 - acc: 0.9960 - val_loss: 0.3008 - val_acc: 0.9520\n",
            "Epoch 99/100\n",
            "100/100 [==============================] - 19s 189ms/step - loss: 0.0151 - acc: 0.9941 - val_loss: 0.2782 - val_acc: 0.9520\n",
            "Epoch 100/100\n",
            "100/100 [==============================] - 19s 188ms/step - loss: 0.0158 - acc: 0.9944 - val_loss: 0.3218 - val_acc: 0.9480\n"
          ],
          "name": "stdout"
        }
      ]
    },
    {
      "cell_type": "code",
      "metadata": {
        "id": "YUi3O2bglzdG"
      },
      "source": [
        "model.save('cats_and_dogs_small_4.h5')"
      ],
      "execution_count": null,
      "outputs": []
    },
    {
      "cell_type": "markdown",
      "metadata": {
        "id": "dkLkn9I1lzdH"
      },
      "source": [
        "Let's plot our results using the same plotting code as before:"
      ]
    },
    {
      "cell_type": "code",
      "metadata": {
        "collapsed": true,
        "id": "9TTeFGv7lzdH",
        "colab": {
          "base_uri": "https://localhost:8080/",
          "height": 545
        },
        "outputId": "901ecb5b-7eaa-46da-a9cf-c0717f54e1b4"
      },
      "source": [
        "acc = history.history['acc']\n",
        "val_acc = history.history['val_acc']\n",
        "loss = history.history['loss']\n",
        "val_loss = history.history['val_loss']\n",
        "\n",
        "epochs = range(len(acc))\n",
        "\n",
        "plt.plot(epochs, acc, 'bo', label='Training acc')\n",
        "plt.plot(epochs, val_acc, 'b', label='Validation acc')\n",
        "plt.title('Training and validation accuracy')\n",
        "plt.legend()\n",
        "\n",
        "plt.figure()\n",
        "\n",
        "plt.plot(epochs, loss, 'bo', label='Training loss')\n",
        "plt.plot(epochs, val_loss, 'b', label='Validation loss')\n",
        "plt.title('Training and validation loss')\n",
        "plt.legend()\n",
        "\n",
        "plt.show()"
      ],
      "execution_count": null,
      "outputs": [
        {
          "output_type": "display_data",
          "data": {
            "image/png": "[encoded data removed]",
            "text/plain": [
              "<Figure size 432x288 with 1 Axes>"
            ]
          },
          "metadata": {
            "tags": [],
            "needs_background": "light"
          }
        },
        {
          "output_type": "display_data",
          "data": {
            "image/png": "[encoded data removed]",
            "text/plain": [
              "<Figure size 432x288 with 1 Axes>"
            ]
          },
          "metadata": {
            "tags": [],
            "needs_background": "light"
          }
        }
      ]
    },
    {
      "cell_type": "markdown",
      "metadata": {
        "id": "FVFKGP_6lzdH"
      },
      "source": [
        "\n",
        "These curves look very noisy. To make them more readable, we can smooth them by replacing every loss and accuracy with exponential moving \n",
        "averages of these quantities. Here's a trivial utility function to do this:"
      ]
    },
    {
      "cell_type": "code",
      "metadata": {
        "id": "aGgoVMawlzdI",
        "colab": {
          "base_uri": "https://localhost:8080/",
          "height": 545
        },
        "outputId": "942b1316-18a5-4e12-fab5-acc454a0894a"
      },
      "source": [
        "def smooth_curve(points, factor=0.8):\n",
        "  smoothed_points = []\n",
        "  for point in points:\n",
        "    if smoothed_points:\n",
        "      previous = smoothed_points[-1]\n",
        "      smoothed_points.append(previous * factor + point * (1 - factor))\n",
        "    else:\n",
        "      smoothed_points.append(point)\n",
        "  return smoothed_points\n",
        "\n",
        "plt.plot(epochs,\n",
        "         smooth_curve(acc), 'bo', label='Smoothed training acc')\n",
        "plt.plot(epochs,\n",
        "         smooth_curve(val_acc), 'b', label='Smoothed validation acc')\n",
        "plt.title('Training and validation accuracy')\n",
        "plt.legend()\n",
        "\n",
        "plt.figure()\n",
        "\n",
        "plt.plot(epochs,\n",
        "         smooth_curve(loss), 'bo', label='Smoothed training loss')\n",
        "plt.plot(epochs,\n",
        "         smooth_curve(val_loss), 'b', label='Smoothed validation loss')\n",
        "plt.title('Training and validation loss')\n",
        "plt.legend()\n",
        "\n",
        "plt.show()"
      ],
      "execution_count": null,
      "outputs": [
        {
          "output_type": "display_data",
          "data": {
            "image/png": "[encoded data removed]",
            "text/plain": [
              "<Figure size 432x288 with 1 Axes>"
            ]
          },
          "metadata": {
            "tags": [],
            "needs_background": "light"
          }
        },
        {
          "output_type": "display_data",
          "data": {
            "image/png": "[encoded data removed]",
            "text/plain": [
              "<Figure size 432x288 with 1 Axes>"
            ]
          },
          "metadata": {
            "tags": [],
            "needs_background": "light"
          }
        }
      ]
    },
    {
      "cell_type": "markdown",
      "metadata": {
        "id": "JtMYRozilzdI"
      },
      "source": [
        "\n",
        "These curves look much cleaner and more stable. We are seeing a nice 1% absolute improvement.\n",
        "\n",
        "Note that the loss curve does not show any real improvement (in fact, it is deteriorating). You may wonder, how could accuracy improve if the \n",
        "loss isn't decreasing? The answer is simple: what we display is an average of pointwise loss values, but what actually matters for accuracy \n",
        "is the distribution of the loss values, not their average, since accuracy is the result of a binary thresholding of the class probability \n",
        "predicted by the model. The model may still be improving even if this isn't reflected in the average loss.\n",
        "\n",
        "We can now finally evaluate this model on the test data:"
      ]
    },
    {
      "cell_type": "code",
      "metadata": {
        "id": "uQwrqt53lzdJ"
      },
      "source": [
        "#test_generator = test_datagen.flow_from_directory(\n",
        "#        test_dir,\n",
        "#        target_size=(150, 150),\n",
        "#        batch_size=20,\n",
        "#        class_mode='binary')\n",
        "\n",
        "#test_loss, test_acc = model.evaluate_generator(test_generator, steps=50)\n",
        "#print('test acc:', test_acc)"
      ],
      "execution_count": null,
      "outputs": []
    },
    {
      "cell_type": "markdown",
      "metadata": {
        "id": "5lKHPrRdlzdK"
      },
      "source": [
        "\n",
        "Here we get a test accuracy of 97%. In the original Kaggle competition around this dataset, this would have been one of the top results. \n",
        "However, using modern deep learning techniques, we managed to reach this result using only a very small fraction of the training data \n",
        "available (about 10%). There is a huge difference between being able to train on 20,000 samples compared to 2,000 samples!"
      ]
    },
    {
      "cell_type": "markdown",
      "metadata": {
        "id": "R6rbTdYTlzdK"
      },
      "source": [
        "## Take-aways: using convnets with small datasets\n",
        "\n",
        "Here's what you should take away from the exercises of these past two sections:\n",
        "\n",
        "* Convnets are the best type of machine learning models for computer vision tasks. It is possible to train one from scratch even on a very \n",
        "small dataset, with decent results.\n",
        "* On a small dataset, overfitting will be the main issue. Data augmentation is a powerful way to fight overfitting when working with image \n",
        "data.\n",
        "* It is easy to reuse an existing convnet on a new dataset, via feature extraction. This is a very valuable technique for working with \n",
        "small image datasets.\n",
        "* As a complement to feature extraction, one may use fine-tuning, which adapts to a new problem some of the representations previously \n",
        "learned by an existing model. This pushes performance a bit further.\n",
        "\n",
        "Now you have a solid set of tools for dealing with image classification problems, in particular with small datasets."
      ]
    }
  ]
}
