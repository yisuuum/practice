{
  "nbformat": 4,
  "nbformat_minor": 0,
  "metadata": {
    "colab": {
      "name": "Team Quiz.ipynb",
      "provenance": [],
      "authorship_tag": "ABX9TyO0a3NKHU8k/TJz4c8TxTiV",
      "include_colab_link": true
    },
    "kernelspec": {
      "name": "python3",
      "display_name": "Python 3"
    },
    "language_info": {
      "name": "python"
    }
  },
  "cells": [
    {
      "cell_type": "markdown",
      "metadata": {
        "id": "view-in-github",
        "colab_type": "text"
      },
      "source": [
        "<a href=\"https://colab.research.google.com/github/yisuuum/practice/blob/main/Team_Quiz.ipynb\" target=\"_parent\"><img src=\"https://colab.research.google.com/assets/colab-badge.svg\" alt=\"Open In Colab\"/></a>"
      ]
    },
    {
      "cell_type": "code",
      "metadata": {
        "id": "6aM7NFZk1I2K"
      },
      "source": [
        "with open(\"ids.txt\", 'w') as f :\n",
        "  f.write('ID \\n John \\n Karl \\n Andy \\n Tim')\n"
      ],
      "execution_count": null,
      "outputs": []
    },
    {
      "cell_type": "code",
      "metadata": {
        "id": "fvCeZY011NxO"
      },
      "source": [
        "with open(\"data1.txt\", 'w') as f :\n",
        "  f.write('ID \\t field1 \\t field2 \\t field3 \\n Tom \\t 1 \\t 3 \\t 1 \\n John \\t 1 \\t 3 \\t 1 \\n Tom \\t 1 \\t 1 \\t 1 \\n Karl \\t 1 \\t 1 \\t 2 \\n Karl \\t 1 \\t 3 \\t 2 \\n Karl \\t 2 \\t 2 \\t 2 \\n Andy \\t 1 \\t 2 \\t 3')"
      ],
      "execution_count": null,
      "outputs": []
    },
    {
      "cell_type": "code",
      "metadata": {
        "id": "ZHnc7CjR25Rc"
      },
      "source": [
        "with open(\"data2.txt\", 'w') as f :\n",
        "  f.write('ID \\t field1 \\t field2 \\t field3 \\n Tom \\t 2 \\t 3 \\t 1 \\n Jane \\t 1 \\t 1 \\t 3 \\n Jane \\t 2 \\t 2 \\t 1 \\n Max \\t 3 \\t 1 \\t 2 \\n Karl \\t 1 \\t 4 \\t 2 \\n Max \\t 3 \\t 2 \\t 2 \\n Max \\t 2 \\t 2 \\t 1')"
      ],
      "execution_count": null,
      "outputs": []
    },
    {
      "cell_type": "code",
      "metadata": {
        "colab": {
          "base_uri": "https://localhost:8080/"
        },
        "id": "HsQIxRos6B0L",
        "outputId": "a386c0b8-c55b-4020-a008-d98f7daffe6a"
      },
      "source": [
        "ids = []\n",
        "with open('ids.txt', 'r') as f :\n",
        "  for item in f :\n",
        "    print(item)\n",
        "    ids.append(item.strip())"
      ],
      "execution_count": null,
      "outputs": [
        {
          "output_type": "stream",
          "text": [
            "ID \n",
            "\n",
            " John \n",
            "\n",
            " Karl \n",
            "\n",
            " Andy \n",
            "\n",
            " Tim\n"
          ],
          "name": "stdout"
        }
      ]
    },
    {
      "cell_type": "code",
      "metadata": {
        "colab": {
          "base_uri": "https://localhost:8080/"
        },
        "id": "19gilSBCCdkl",
        "outputId": "410e27ee-b27c-4da7-f8e5-063cb616b1db"
      },
      "source": [
        "with open(\"data1.txt\", encoding='utf-8') as f:\n",
        "  for item in f :\n",
        "    nm, f1, f2, f3 = item.strip().split()\n",
        "    print(\"nm: {}, f1: {}, f2: {}, f3: {}\".format(nm, f1, f2, f3) )"
      ],
      "execution_count": null,
      "outputs": [
        {
          "output_type": "stream",
          "text": [
            "nm: ID, f1: field1, f2: field2, f3: field3\n",
            "nm: Tom, f1: 1, f2: 3, f3: 1\n",
            "nm: John, f1: 1, f2: 3, f3: 1\n",
            "nm: Tom, f1: 1, f2: 1, f3: 1\n",
            "nm: Karl, f1: 1, f2: 1, f3: 2\n",
            "nm: Karl, f1: 1, f2: 3, f3: 2\n",
            "nm: Karl, f1: 2, f2: 2, f3: 2\n",
            "nm: Andy, f1: 1, f2: 2, f3: 3\n"
          ],
          "name": "stdout"
        }
      ]
    },
    {
      "cell_type": "code",
      "metadata": {
        "colab": {
          "base_uri": "https://localhost:8080/"
        },
        "id": "LCUabaskCds3",
        "outputId": "a2f1ff35-389e-48cb-9343-79fb39c9df69"
      },
      "source": [
        "with open(\"data2.txt\", encoding='utf-8') as f:\n",
        "  for item in f :\n",
        "    nm, f1, f2, f3 = item.strip().split()\n",
        "    print(\"nm: {}, f1: {}, f2: {}, f3: {}\".format(nm, f1, f2, f3) )"
      ],
      "execution_count": null,
      "outputs": [
        {
          "output_type": "stream",
          "text": [
            "nm: ID, f1: field1, f2: field2, f3: field3\n",
            "nm: Tom, f1: 2, f2: 3, f3: 1\n",
            "nm: Jane, f1: 1, f2: 1, f3: 3\n",
            "nm: Jane, f1: 2, f2: 2, f3: 1\n",
            "nm: Max, f1: 3, f2: 1, f3: 2\n",
            "nm: Karl, f1: 1, f2: 4, f3: 2\n",
            "nm: Max, f1: 3, f2: 2, f3: 2\n",
            "nm: Max, f1: 2, f2: 2, f3: 1\n"
          ],
          "name": "stdout"
        }
      ]
    },
    {
      "cell_type": "code",
      "metadata": {
        "colab": {
          "base_uri": "https://localhost:8080/"
        },
        "id": "F8MJ6iouCm0y",
        "outputId": "03538521-716c-4f79-b626-99b275883c88"
      },
      "source": [
        "ids[1:]"
      ],
      "execution_count": null,
      "outputs": [
        {
          "output_type": "execute_result",
          "data": {
            "text/plain": [
              "['John', 'Karl', 'Andy', 'Tim']"
            ]
          },
          "metadata": {
            "tags": []
          },
          "execution_count": 32
        }
      ]
    },
    {
      "cell_type": "code",
      "metadata": {
        "id": "D14iZsn50P7z"
      },
      "source": [
        "with open('new_data.txt', 'w') as fw :\n",
        "\n",
        "  with open('data1.txt', 'r', encoding='utf-8') as f :\n",
        "    for item in f :\n",
        "      nm, f1, f2, f3 = item.strip().split()\n",
        "      if nm in ids[1:] :\n",
        "        fw.write(item)\n",
        "\n",
        "  fw.write(\"\\n\")\n",
        "      \n",
        "  with open('data2.txt', 'r', encoding='utf-8') as f :\n",
        "    for item in f :\n",
        "       nm, f1, f2, f3 = item.strip().split()\n",
        "       if nm in ids[1:] :\n",
        "        fw.write(item)\n",
        "\n"
      ],
      "execution_count": null,
      "outputs": []
    },
    {
      "cell_type": "code",
      "metadata": {
        "colab": {
          "base_uri": "https://localhost:8080/"
        },
        "id": "5sQ01mNY70EQ",
        "outputId": "d4b267ec-abd1-44f3-b40d-78d5d8f52382"
      },
      "source": [
        "with open(\"new_data.txt\", encoding='utf-8') as f:\n",
        "    for item in f :\n",
        "      print(item)"
      ],
      "execution_count": null,
      "outputs": [
        {
          "output_type": "stream",
          "text": [
            " John \t 1 \t 3 \t 1 \n",
            "\n",
            " Karl \t 1 \t 1 \t 2 \n",
            "\n",
            " Karl \t 1 \t 3 \t 2 \n",
            "\n",
            " Karl \t 2 \t 2 \t 2 \n",
            "\n",
            " Andy \t 1 \t 2 \t 3\n",
            "\n",
            " Karl \t 1 \t 4 \t 2 \n",
            "\n"
          ],
          "name": "stdout"
        }
      ]
    }
  ]
}
